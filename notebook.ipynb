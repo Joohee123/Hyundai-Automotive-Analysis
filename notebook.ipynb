{
 "cells": [
  {
   "cell_type": "code",
   "execution_count": 2,
   "metadata": {},
   "outputs": [
    {
     "name": "stdout",
     "output_type": "stream",
     "text": [
      "9034.390521224994\n"
     ]
    },
    {
     "data": {
      "image/png": "[encoded data removed]",
      "text/plain": [
       "<Figure size 640x480 with 1 Axes>"
      ]
     },
     "metadata": {},
     "output_type": "display_data"
    }
   ],
   "source": [
    "import pandas as pd\n",
    "import seaborn as sns\n",
    "import matplotlib.ticker as ticker\n",
    "from matplotlib import pyplot as plt\n",
    "import numpy as np\n",
    "from sklearn.linear_model import LinearRegression\n",
    "from datetime import datetime\n",
    "import math\n",
    "\n",
    "total_sales_df = pd.read_csv(\"data/total_sales_df.csv\")\n",
    "total_vehicle_sales_df = pd.read_csv(\"data/total_vehicle_sales_df.csv\")\n",
    "\n",
    "y = total_sales_df['total sales']\n",
    "x = total_sales_df['timestamp']\n",
    "\n",
    "# Some confidence interval\n",
    "ci = 3 * np.std(y)  # 3 sigma\n",
    "\n",
    "print(np.std(y))\n",
    "\n",
    "fig, ax = plt.subplots()\n",
    "\n",
    "# Train model\n",
    "x_dt = x.apply(lambda q: datetime.strptime(q, \"%Y-%m-%d\"))\n",
    "x_np = x_dt.apply(lambda q: q.timestamp()).to_numpy().reshape(-1, 1)\n",
    "reg = LinearRegression().fit(x_np, y)"
   ]
  }
 ],
 "metadata": {
  "kernelspec": {
   "display_name": ".venv",
   "language": "python",
   "name": "python3"
  },
  "language_info": {
   "codemirror_mode": {
    "name": "ipython",
    "version": 3
   },
   "file_extension": ".py",
   "mimetype": "text/x-python",
   "name": "python",
   "nbconvert_exporter": "python",
   "pygments_lexer": "ipython3",
   "version": "3.9.13"
  }
 },
 "nbformat": 4,
 "nbformat_minor": 2
}
