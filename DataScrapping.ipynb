{
 "cells": [
  {
   "cell_type": "code",
   "execution_count": 147,
   "metadata": {},
   "outputs": [],
   "source": [
    "import requests\n",
    "from bs4 import BeautifulSoup\n",
    "import pandas as pd"
   ]
  },
  {
   "cell_type": "code",
   "execution_count": 148,
   "metadata": {},
   "outputs": [],
   "source": [
    "# Step 1: Set a User-Agent to mimic a browser request\n",
    "headers = {\n",
    "    'User-Agent': 'Mozilla/5.0 (Windows NT 10.0; Win64; x64) AppleWebKit/537.36 (KHTML, like Gecko) Chrome/91.0.4472.124 Safari/537.36'\n",
    "}\n",
    "\n",
    "# Step 2: Initialize a session\n",
    "session = requests.Session()\n",
    "session.headers.update(headers)\n",
    "\n",
    "# Step 3: Fetch the main page containing article links\n",
    "base_url = \"https://www.hyundainews.com\"\n",
    "query_result_url = base_url + \"/en-us/releases?category_ids=382&categories=sales+releases&page_title=sales_releases\"\n",
    "response = session.get(query_result_url)\n"
   ]
  },
  {
   "cell_type": "code",
   "execution_count": 149,
   "metadata": {},
   "outputs": [
    {
     "name": "stdout",
     "output_type": "stream",
     "text": [
      "Successfully fetched the main page.\n"
     ]
    }
   ],
   "source": [
    "# Check for a successful response (200 OK)\n",
    "if response.status_code == 200:\n",
    "    print(\"Successfully fetched the main page.\")\n",
    "else:\n",
    "    print(f\"Failed to fetch the main page. Status code: {response.status_code}\")"
   ]
  },
  {
   "cell_type": "code",
   "execution_count": 150,
   "metadata": {},
   "outputs": [
    {
     "data": {
      "text/plain": [
       "'https://www.hyundainews.com'"
      ]
     },
     "execution_count": 150,
     "metadata": {},
     "output_type": "execute_result"
    }
   ],
   "source": [
    "base_url"
   ]
  },
  {
   "cell_type": "code",
   "execution_count": 151,
   "metadata": {},
   "outputs": [],
   "source": [
    "# Step 4: Parse the main page with BeautifulSoup\n",
    "soup = BeautifulSoup(response.text, 'html.parser')\n",
    "\n",
    "# Find all the article links on the page (assuming they are <a> tags)\n",
    "article_links = []\n",
    "for link in soup.find_all('a', href=True):\n",
    "    # Filter for links that seem to be article URLs (e.g., those containing \"releases\")\n",
    "    if '/en-us/releases/' in link['href']:\n",
    "        if \"https:\" not in link['href']:\n",
    "            article_links.append(base_url + link['href'])"
   ]
  },
  {
   "cell_type": "code",
   "execution_count": 152,
   "metadata": {},
   "outputs": [
    {
     "data": {
      "text/plain": [
       "['https://www.hyundainews.com/en-us/releases/4414',\n",
       " 'https://www.hyundainews.com/en-us/releases/4414',\n",
       " 'https://www.hyundainews.com/en-us/releases/4414',\n",
       " 'https://www.hyundainews.com/en-us/releases/4383',\n",
       " 'https://www.hyundainews.com/en-us/releases/4383',\n",
       " 'https://www.hyundainews.com/en-us/releases/4383',\n",
       " 'https://www.hyundainews.com/en-us/releases/4362',\n",
       " 'https://www.hyundainews.com/en-us/releases/4362',\n",
       " 'https://www.hyundainews.com/en-us/releases/4362',\n",
       " 'https://www.hyundainews.com/en-us/releases/4342',\n",
       " 'https://www.hyundainews.com/en-us/releases/4342',\n",
       " 'https://www.hyundainews.com/en-us/releases/4342',\n",
       " 'https://www.hyundainews.com/en-us/releases/4322',\n",
       " 'https://www.hyundainews.com/en-us/releases/4322',\n",
       " 'https://www.hyundainews.com/en-us/releases/4322',\n",
       " 'https://www.hyundainews.com/en-us/releases/4285',\n",
       " 'https://www.hyundainews.com/en-us/releases/4285',\n",
       " 'https://www.hyundainews.com/en-us/releases/4285',\n",
       " 'https://www.hyundainews.com/en-us/releases/4258',\n",
       " 'https://www.hyundainews.com/en-us/releases/4258',\n",
       " 'https://www.hyundainews.com/en-us/releases/4258',\n",
       " 'https://www.hyundainews.com/en-us/releases/4236',\n",
       " 'https://www.hyundainews.com/en-us/releases/4236',\n",
       " 'https://www.hyundainews.com/en-us/releases/4236',\n",
       " 'https://www.hyundainews.com/en-us/releases/4210',\n",
       " 'https://www.hyundainews.com/en-us/releases/4210',\n",
       " 'https://www.hyundainews.com/en-us/releases/4210',\n",
       " 'https://www.hyundainews.com/en-us/releases/4184',\n",
       " 'https://www.hyundainews.com/en-us/releases/4184',\n",
       " 'https://www.hyundainews.com/en-us/releases/4184',\n",
       " 'https://www.hyundainews.com/en-us/releases/4155',\n",
       " 'https://www.hyundainews.com/en-us/releases/4155',\n",
       " 'https://www.hyundainews.com/en-us/releases/4155',\n",
       " 'https://www.hyundainews.com/en-us/releases/4134',\n",
       " 'https://www.hyundainews.com/en-us/releases/4134',\n",
       " 'https://www.hyundainews.com/en-us/releases/4134',\n",
       " 'https://www.hyundainews.com/en-us/releases/4116',\n",
       " 'https://www.hyundainews.com/en-us/releases/4116',\n",
       " 'https://www.hyundainews.com/en-us/releases/4116',\n",
       " 'https://www.hyundainews.com/en-us/releases/4086',\n",
       " 'https://www.hyundainews.com/en-us/releases/4086',\n",
       " 'https://www.hyundainews.com/en-us/releases/4086',\n",
       " 'https://www.hyundainews.com/en-us/releases/4067',\n",
       " 'https://www.hyundainews.com/en-us/releases/4067',\n",
       " 'https://www.hyundainews.com/en-us/releases/4067',\n",
       " 'https://www.hyundainews.com/en-us/releases/4037',\n",
       " 'https://www.hyundainews.com/en-us/releases/4037',\n",
       " 'https://www.hyundainews.com/en-us/releases/4037',\n",
       " 'https://www.hyundainews.com/en-us/releases/4012',\n",
       " 'https://www.hyundainews.com/en-us/releases/4012',\n",
       " 'https://www.hyundainews.com/en-us/releases/4012',\n",
       " 'https://www.hyundainews.com/en-us/releases/3980',\n",
       " 'https://www.hyundainews.com/en-us/releases/3980',\n",
       " 'https://www.hyundainews.com/en-us/releases/3980',\n",
       " 'https://www.hyundainews.com/en-us/releases/3950',\n",
       " 'https://www.hyundainews.com/en-us/releases/3950',\n",
       " 'https://www.hyundainews.com/en-us/releases/3950',\n",
       " 'https://www.hyundainews.com/en-us/releases/3921',\n",
       " 'https://www.hyundainews.com/en-us/releases/3921',\n",
       " 'https://www.hyundainews.com/en-us/releases/3921',\n",
       " 'https://www.hyundainews.com/en-us/releases/3896',\n",
       " 'https://www.hyundainews.com/en-us/releases/3896',\n",
       " 'https://www.hyundainews.com/en-us/releases/3896',\n",
       " 'https://www.hyundainews.com/en-us/releases/3875',\n",
       " 'https://www.hyundainews.com/en-us/releases/3875',\n",
       " 'https://www.hyundainews.com/en-us/releases/3875',\n",
       " 'https://www.hyundainews.com/en-us/releases/3850',\n",
       " 'https://www.hyundainews.com/en-us/releases/3850',\n",
       " 'https://www.hyundainews.com/en-us/releases/3850',\n",
       " 'https://www.hyundainews.com/en-us/releases/3826',\n",
       " 'https://www.hyundainews.com/en-us/releases/3826',\n",
       " 'https://www.hyundainews.com/en-us/releases/3826',\n",
       " 'https://www.hyundainews.com/en-us/releases/3800',\n",
       " 'https://www.hyundainews.com/en-us/releases/3800',\n",
       " 'https://www.hyundainews.com/en-us/releases/3800',\n",
       " 'https://www.hyundainews.com/en-us/releases/3778',\n",
       " 'https://www.hyundainews.com/en-us/releases/3778',\n",
       " 'https://www.hyundainews.com/en-us/releases/3778',\n",
       " 'https://www.hyundainews.com/en-us/releases/3754',\n",
       " 'https://www.hyundainews.com/en-us/releases/3754',\n",
       " 'https://www.hyundainews.com/en-us/releases/3754',\n",
       " 'https://www.hyundainews.com/en-us/releases/3732',\n",
       " 'https://www.hyundainews.com/en-us/releases/3732',\n",
       " 'https://www.hyundainews.com/en-us/releases/3732',\n",
       " 'https://www.hyundainews.com/en-us/releases/3705',\n",
       " 'https://www.hyundainews.com/en-us/releases/3705',\n",
       " 'https://www.hyundainews.com/en-us/releases/3705',\n",
       " 'https://www.hyundainews.com/en-us/releases/3680',\n",
       " 'https://www.hyundainews.com/en-us/releases/3680',\n",
       " 'https://www.hyundainews.com/en-us/releases/3680',\n",
       " 'https://www.hyundainews.com/en-us/releases/3662',\n",
       " 'https://www.hyundainews.com/en-us/releases/3662',\n",
       " 'https://www.hyundainews.com/en-us/releases/3662',\n",
       " 'https://www.hyundainews.com/en-us/releases/3643',\n",
       " 'https://www.hyundainews.com/en-us/releases/3643',\n",
       " 'https://www.hyundainews.com/en-us/releases/3643',\n",
       " 'https://www.hyundainews.com/en-us/releases/3624',\n",
       " 'https://www.hyundainews.com/en-us/releases/3624',\n",
       " 'https://www.hyundainews.com/en-us/releases/3624',\n",
       " 'https://www.hyundainews.com/en-us/releases/3593',\n",
       " 'https://www.hyundainews.com/en-us/releases/3593',\n",
       " 'https://www.hyundainews.com/en-us/releases/3593',\n",
       " 'https://www.hyundainews.com/en-us/releases/3575',\n",
       " 'https://www.hyundainews.com/en-us/releases/3575',\n",
       " 'https://www.hyundainews.com/en-us/releases/3575',\n",
       " 'https://www.hyundainews.com/en-us/releases/3560',\n",
       " 'https://www.hyundainews.com/en-us/releases/3560',\n",
       " 'https://www.hyundainews.com/en-us/releases/3560',\n",
       " 'https://www.hyundainews.com/en-us/releases/3530',\n",
       " 'https://www.hyundainews.com/en-us/releases/3530',\n",
       " 'https://www.hyundainews.com/en-us/releases/3530',\n",
       " 'https://www.hyundainews.com/en-us/releases/3516',\n",
       " 'https://www.hyundainews.com/en-us/releases/3516',\n",
       " 'https://www.hyundainews.com/en-us/releases/3516',\n",
       " 'https://www.hyundainews.com/en-us/releases/3497',\n",
       " 'https://www.hyundainews.com/en-us/releases/3497',\n",
       " 'https://www.hyundainews.com/en-us/releases/3497',\n",
       " 'https://www.hyundainews.com/en-us/releases/3475',\n",
       " 'https://www.hyundainews.com/en-us/releases/3475',\n",
       " 'https://www.hyundainews.com/en-us/releases/3475',\n",
       " 'https://www.hyundainews.com/en-us/releases/4414',\n",
       " 'https://www.hyundainews.com/en-us/releases/4414',\n",
       " 'https://www.hyundainews.com/en-us/releases/4383',\n",
       " 'https://www.hyundainews.com/en-us/releases/4383',\n",
       " 'https://www.hyundainews.com/en-us/releases/4362',\n",
       " 'https://www.hyundainews.com/en-us/releases/4362',\n",
       " 'https://www.hyundainews.com/en-us/releases/4342',\n",
       " 'https://www.hyundainews.com/en-us/releases/4342',\n",
       " 'https://www.hyundainews.com/en-us/releases/4322',\n",
       " 'https://www.hyundainews.com/en-us/releases/4322',\n",
       " 'https://www.hyundainews.com/en-us/releases/4285',\n",
       " 'https://www.hyundainews.com/en-us/releases/4285',\n",
       " 'https://www.hyundainews.com/en-us/releases/4258',\n",
       " 'https://www.hyundainews.com/en-us/releases/4258',\n",
       " 'https://www.hyundainews.com/en-us/releases/4236',\n",
       " 'https://www.hyundainews.com/en-us/releases/4236',\n",
       " 'https://www.hyundainews.com/en-us/releases/4210',\n",
       " 'https://www.hyundainews.com/en-us/releases/4210',\n",
       " 'https://www.hyundainews.com/en-us/releases/4184',\n",
       " 'https://www.hyundainews.com/en-us/releases/4184',\n",
       " 'https://www.hyundainews.com/en-us/releases/4155',\n",
       " 'https://www.hyundainews.com/en-us/releases/4155',\n",
       " 'https://www.hyundainews.com/en-us/releases/4134',\n",
       " 'https://www.hyundainews.com/en-us/releases/4134',\n",
       " 'https://www.hyundainews.com/en-us/releases/4116',\n",
       " 'https://www.hyundainews.com/en-us/releases/4116',\n",
       " 'https://www.hyundainews.com/en-us/releases/4086',\n",
       " 'https://www.hyundainews.com/en-us/releases/4086',\n",
       " 'https://www.hyundainews.com/en-us/releases/4067',\n",
       " 'https://www.hyundainews.com/en-us/releases/4067',\n",
       " 'https://www.hyundainews.com/en-us/releases/4037',\n",
       " 'https://www.hyundainews.com/en-us/releases/4037',\n",
       " 'https://www.hyundainews.com/en-us/releases/4012',\n",
       " 'https://www.hyundainews.com/en-us/releases/4012',\n",
       " 'https://www.hyundainews.com/en-us/releases/3980',\n",
       " 'https://www.hyundainews.com/en-us/releases/3980',\n",
       " 'https://www.hyundainews.com/en-us/releases/3950',\n",
       " 'https://www.hyundainews.com/en-us/releases/3950',\n",
       " 'https://www.hyundainews.com/en-us/releases/3921',\n",
       " 'https://www.hyundainews.com/en-us/releases/3921',\n",
       " 'https://www.hyundainews.com/en-us/releases/3896',\n",
       " 'https://www.hyundainews.com/en-us/releases/3896',\n",
       " 'https://www.hyundainews.com/en-us/releases/3875',\n",
       " 'https://www.hyundainews.com/en-us/releases/3875',\n",
       " 'https://www.hyundainews.com/en-us/releases/3850',\n",
       " 'https://www.hyundainews.com/en-us/releases/3850',\n",
       " 'https://www.hyundainews.com/en-us/releases/3826',\n",
       " 'https://www.hyundainews.com/en-us/releases/3826',\n",
       " 'https://www.hyundainews.com/en-us/releases/3800',\n",
       " 'https://www.hyundainews.com/en-us/releases/3800',\n",
       " 'https://www.hyundainews.com/en-us/releases/3778',\n",
       " 'https://www.hyundainews.com/en-us/releases/3778',\n",
       " 'https://www.hyundainews.com/en-us/releases/3754',\n",
       " 'https://www.hyundainews.com/en-us/releases/3754',\n",
       " 'https://www.hyundainews.com/en-us/releases/3732',\n",
       " 'https://www.hyundainews.com/en-us/releases/3732',\n",
       " 'https://www.hyundainews.com/en-us/releases/3705',\n",
       " 'https://www.hyundainews.com/en-us/releases/3705',\n",
       " 'https://www.hyundainews.com/en-us/releases/3680',\n",
       " 'https://www.hyundainews.com/en-us/releases/3680',\n",
       " 'https://www.hyundainews.com/en-us/releases/3662',\n",
       " 'https://www.hyundainews.com/en-us/releases/3662',\n",
       " 'https://www.hyundainews.com/en-us/releases/3643',\n",
       " 'https://www.hyundainews.com/en-us/releases/3643',\n",
       " 'https://www.hyundainews.com/en-us/releases/3624',\n",
       " 'https://www.hyundainews.com/en-us/releases/3624',\n",
       " 'https://www.hyundainews.com/en-us/releases/3593',\n",
       " 'https://www.hyundainews.com/en-us/releases/3593',\n",
       " 'https://www.hyundainews.com/en-us/releases/3575',\n",
       " 'https://www.hyundainews.com/en-us/releases/3575',\n",
       " 'https://www.hyundainews.com/en-us/releases/3560',\n",
       " 'https://www.hyundainews.com/en-us/releases/3560',\n",
       " 'https://www.hyundainews.com/en-us/releases/3530',\n",
       " 'https://www.hyundainews.com/en-us/releases/3530',\n",
       " 'https://www.hyundainews.com/en-us/releases/3516',\n",
       " 'https://www.hyundainews.com/en-us/releases/3516',\n",
       " 'https://www.hyundainews.com/en-us/releases/3497',\n",
       " 'https://www.hyundainews.com/en-us/releases/3497',\n",
       " 'https://www.hyundainews.com/en-us/releases/3475',\n",
       " 'https://www.hyundainews.com/en-us/releases/3475']"
      ]
     },
     "execution_count": 152,
     "metadata": {},
     "output_type": "execute_result"
    }
   ],
   "source": [
    "article_links"
   ]
  },
  {
   "cell_type": "code",
   "execution_count": 153,
   "metadata": {},
   "outputs": [],
   "source": [
    "# Step 3: Function to extract tables from an article\n",
    "def extract_tables_from_article(url, total_sales_df, total_vehicle_sales_df):\n",
    "    print(f\"Extracting from {url}\")\n",
    "    # Fetch the article page\n",
    "    article_response = session.get(url)\n",
    "    article_soup = BeautifulSoup(article_response.text, 'html.parser')\n",
    "    \n",
    "    # Find all tables in the article\n",
    "    tables = article_soup.find_all('table')\n",
    "    \n",
    "    # If there are tables, process them\n",
    "    if tables:\n",
    "        for idx, table in enumerate(tables):\n",
    "            # Read the table into a pandas DataFrame\n",
    "            df = pd.read_html(str(table))[0]\n",
    "            prefix = \"\"\n",
    "\n",
    "            # Remove any leading/trailing whitespaces in the cells\n",
    "            df.iloc[0, 1] = df.iloc[0, 1].replace(\" \", \"\")\n",
    "            \n",
    "            if idx == 0:  # Total Sales Table\n",
    "                timestamp_str = df.iloc[0, 1]  # Row 0, Col 1\n",
    "                timestamp = pd.to_datetime(timestamp_str, format='%b-%y')\n",
    "                total_sales = df.iloc[1, 1]  # Assuming sales values are in the second column (adjust if needed)\n",
    "\n",
    "                new_df = pd.DataFrame({\n",
    "                    'timestamp': [timestamp],\n",
    "                    'total sales': [total_sales]\n",
    "                })\n",
    "\n",
    "                # Append to the total_sales_df DataFrame\n",
    "                total_sales_df = pd.concat([total_sales_df, new_df], ignore_index=True)          \n",
    "            \n",
    "            else:  # Vehicle Sales Table\n",
    "                timestamp_str = df.iloc[0, 1]  # Row 0, Col 1\n",
    "                timestamp = pd.to_datetime(timestamp_str, format='%b-%y')                \n",
    "                new_df = pd.DataFrame({\n",
    "                    'timestamp': [timestamp],\n",
    "                })                   \n",
    "                \n",
    "                for i in range(1, len(df[0])):  # Assuming first column contains vehicle models and the second contains the sales data\n",
    "                    new_df[df.iloc[i, 0]] = df.iloc[i, 1]\n",
    "                \n",
    "                # Append to the total_vehicle_sales_df DataFrame\n",
    "                total_vehicle_sales_df = pd.concat([total_vehicle_sales_df, new_df], ignore_index=True)   \n",
    "    else:\n",
    "        print(f\"No tables found in {url}.\")\n",
    "    \n",
    "    return total_sales_df, total_vehicle_sales_df  # Return updated DataFrames\n",
    "\n"
   ]
  },
  {
   "cell_type": "code",
   "execution_count": 154,
   "metadata": {},
   "outputs": [
    {
     "name": "stdout",
     "output_type": "stream",
     "text": [
      "Extracting from https://www.hyundainews.com/en-us/releases/4414\n",
      "Extracting from https://www.hyundainews.com/en-us/releases/4414\n",
      "Extracting from https://www.hyundainews.com/en-us/releases/4414\n",
      "Extracting from https://www.hyundainews.com/en-us/releases/4383\n"
     ]
    },
    {
     "name": "stderr",
     "output_type": "stream",
     "text": [
      "C:\\Users\\Hong-Bin\\AppData\\Local\\Temp\\ipykernel_9820\\3232788066.py:15: FutureWarning: Passing literal html to 'read_html' is deprecated and will be removed in a future version. To read from a literal string, wrap it in a 'StringIO' object.\n",
      "  df = pd.read_html(str(table))[0]\n",
      "C:\\Users\\Hong-Bin\\AppData\\Local\\Temp\\ipykernel_9820\\3232788066.py:32: FutureWarning: The behavior of DataFrame concatenation with empty or all-NA entries is deprecated. In a future version, this will no longer exclude empty or all-NA columns when determining the result dtypes. To retain the old behavior, exclude the relevant entries before the concat operation.\n",
      "  total_sales_df = pd.concat([total_sales_df, new_df], ignore_index=True)\n",
      "C:\\Users\\Hong-Bin\\AppData\\Local\\Temp\\ipykernel_9820\\3232788066.py:15: FutureWarning: Passing literal html to 'read_html' is deprecated and will be removed in a future version. To read from a literal string, wrap it in a 'StringIO' object.\n",
      "  df = pd.read_html(str(table))[0]\n",
      "C:\\Users\\Hong-Bin\\AppData\\Local\\Temp\\ipykernel_9820\\3232788066.py:45: FutureWarning: The behavior of DataFrame concatenation with empty or all-NA entries is deprecated. In a future version, this will no longer exclude empty or all-NA columns when determining the result dtypes. To retain the old behavior, exclude the relevant entries before the concat operation.\n",
      "  total_vehicle_sales_df = pd.concat([total_vehicle_sales_df, new_df], ignore_index=True)\n",
      "C:\\Users\\Hong-Bin\\AppData\\Local\\Temp\\ipykernel_9820\\3232788066.py:15: FutureWarning: Passing literal html to 'read_html' is deprecated and will be removed in a future version. To read from a literal string, wrap it in a 'StringIO' object.\n",
      "  df = pd.read_html(str(table))[0]\n",
      "C:\\Users\\Hong-Bin\\AppData\\Local\\Temp\\ipykernel_9820\\3232788066.py:15: FutureWarning: Passing literal html to 'read_html' is deprecated and will be removed in a future version. To read from a literal string, wrap it in a 'StringIO' object.\n",
      "  df = pd.read_html(str(table))[0]\n",
      "C:\\Users\\Hong-Bin\\AppData\\Local\\Temp\\ipykernel_9820\\3232788066.py:15: FutureWarning: Passing literal html to 'read_html' is deprecated and will be removed in a future version. To read from a literal string, wrap it in a 'StringIO' object.\n",
      "  df = pd.read_html(str(table))[0]\n",
      "C:\\Users\\Hong-Bin\\AppData\\Local\\Temp\\ipykernel_9820\\3232788066.py:15: FutureWarning: Passing literal html to 'read_html' is deprecated and will be removed in a future version. To read from a literal string, wrap it in a 'StringIO' object.\n",
      "  df = pd.read_html(str(table))[0]\n"
     ]
    },
    {
     "name": "stdout",
     "output_type": "stream",
     "text": [
      "Extracting from https://www.hyundainews.com/en-us/releases/4383\n",
      "Extracting from https://www.hyundainews.com/en-us/releases/4383\n",
      "Extracting from https://www.hyundainews.com/en-us/releases/4362\n"
     ]
    },
    {
     "name": "stderr",
     "output_type": "stream",
     "text": [
      "C:\\Users\\Hong-Bin\\AppData\\Local\\Temp\\ipykernel_9820\\3232788066.py:15: FutureWarning: Passing literal html to 'read_html' is deprecated and will be removed in a future version. To read from a literal string, wrap it in a 'StringIO' object.\n",
      "  df = pd.read_html(str(table))[0]\n",
      "C:\\Users\\Hong-Bin\\AppData\\Local\\Temp\\ipykernel_9820\\3232788066.py:15: FutureWarning: Passing literal html to 'read_html' is deprecated and will be removed in a future version. To read from a literal string, wrap it in a 'StringIO' object.\n",
      "  df = pd.read_html(str(table))[0]\n",
      "C:\\Users\\Hong-Bin\\AppData\\Local\\Temp\\ipykernel_9820\\3232788066.py:15: FutureWarning: Passing literal html to 'read_html' is deprecated and will be removed in a future version. To read from a literal string, wrap it in a 'StringIO' object.\n",
      "  df = pd.read_html(str(table))[0]\n",
      "C:\\Users\\Hong-Bin\\AppData\\Local\\Temp\\ipykernel_9820\\3232788066.py:15: FutureWarning: Passing literal html to 'read_html' is deprecated and will be removed in a future version. To read from a literal string, wrap it in a 'StringIO' object.\n",
      "  df = pd.read_html(str(table))[0]\n",
      "C:\\Users\\Hong-Bin\\AppData\\Local\\Temp\\ipykernel_9820\\3232788066.py:15: FutureWarning: Passing literal html to 'read_html' is deprecated and will be removed in a future version. To read from a literal string, wrap it in a 'StringIO' object.\n",
      "  df = pd.read_html(str(table))[0]\n",
      "C:\\Users\\Hong-Bin\\AppData\\Local\\Temp\\ipykernel_9820\\3232788066.py:15: FutureWarning: Passing literal html to 'read_html' is deprecated and will be removed in a future version. To read from a literal string, wrap it in a 'StringIO' object.\n",
      "  df = pd.read_html(str(table))[0]\n",
      "C:\\Users\\Hong-Bin\\AppData\\Local\\Temp\\ipykernel_9820\\3232788066.py:15: FutureWarning: Passing literal html to 'read_html' is deprecated and will be removed in a future version. To read from a literal string, wrap it in a 'StringIO' object.\n",
      "  df = pd.read_html(str(table))[0]\n",
      "C:\\Users\\Hong-Bin\\AppData\\Local\\Temp\\ipykernel_9820\\3232788066.py:15: FutureWarning: Passing literal html to 'read_html' is deprecated and will be removed in a future version. To read from a literal string, wrap it in a 'StringIO' object.\n",
      "  df = pd.read_html(str(table))[0]\n",
      "C:\\Users\\Hong-Bin\\AppData\\Local\\Temp\\ipykernel_9820\\3232788066.py:15: FutureWarning: Passing literal html to 'read_html' is deprecated and will be removed in a future version. To read from a literal string, wrap it in a 'StringIO' object.\n",
      "  df = pd.read_html(str(table))[0]\n",
      "C:\\Users\\Hong-Bin\\AppData\\Local\\Temp\\ipykernel_9820\\3232788066.py:15: FutureWarning: Passing literal html to 'read_html' is deprecated and will be removed in a future version. To read from a literal string, wrap it in a 'StringIO' object.\n",
      "  df = pd.read_html(str(table))[0]\n",
      "C:\\Users\\Hong-Bin\\AppData\\Local\\Temp\\ipykernel_9820\\3232788066.py:15: FutureWarning: Passing literal html to 'read_html' is deprecated and will be removed in a future version. To read from a literal string, wrap it in a 'StringIO' object.\n",
      "  df = pd.read_html(str(table))[0]\n",
      "C:\\Users\\Hong-Bin\\AppData\\Local\\Temp\\ipykernel_9820\\3232788066.py:15: FutureWarning: Passing literal html to 'read_html' is deprecated and will be removed in a future version. To read from a literal string, wrap it in a 'StringIO' object.\n",
      "  df = pd.read_html(str(table))[0]\n",
      "C:\\Users\\Hong-Bin\\AppData\\Local\\Temp\\ipykernel_9820\\3232788066.py:15: FutureWarning: Passing literal html to 'read_html' is deprecated and will be removed in a future version. To read from a literal string, wrap it in a 'StringIO' object.\n",
      "  df = pd.read_html(str(table))[0]\n",
      "C:\\Users\\Hong-Bin\\AppData\\Local\\Temp\\ipykernel_9820\\3232788066.py:15: FutureWarning: Passing literal html to 'read_html' is deprecated and will be removed in a future version. To read from a literal string, wrap it in a 'StringIO' object.\n",
      "  df = pd.read_html(str(table))[0]\n"
     ]
    },
    {
     "name": "stdout",
     "output_type": "stream",
     "text": [
      "Extracting from https://www.hyundainews.com/en-us/releases/4362\n",
      "Extracting from https://www.hyundainews.com/en-us/releases/4362\n",
      "Extracting from https://www.hyundainews.com/en-us/releases/4342\n",
      "Extracting from https://www.hyundainews.com/en-us/releases/4342\n"
     ]
    },
    {
     "name": "stderr",
     "output_type": "stream",
     "text": [
      "C:\\Users\\Hong-Bin\\AppData\\Local\\Temp\\ipykernel_9820\\3232788066.py:15: FutureWarning: Passing literal html to 'read_html' is deprecated and will be removed in a future version. To read from a literal string, wrap it in a 'StringIO' object.\n",
      "  df = pd.read_html(str(table))[0]\n",
      "C:\\Users\\Hong-Bin\\AppData\\Local\\Temp\\ipykernel_9820\\3232788066.py:15: FutureWarning: Passing literal html to 'read_html' is deprecated and will be removed in a future version. To read from a literal string, wrap it in a 'StringIO' object.\n",
      "  df = pd.read_html(str(table))[0]\n",
      "C:\\Users\\Hong-Bin\\AppData\\Local\\Temp\\ipykernel_9820\\3232788066.py:15: FutureWarning: Passing literal html to 'read_html' is deprecated and will be removed in a future version. To read from a literal string, wrap it in a 'StringIO' object.\n",
      "  df = pd.read_html(str(table))[0]\n",
      "C:\\Users\\Hong-Bin\\AppData\\Local\\Temp\\ipykernel_9820\\3232788066.py:15: FutureWarning: Passing literal html to 'read_html' is deprecated and will be removed in a future version. To read from a literal string, wrap it in a 'StringIO' object.\n",
      "  df = pd.read_html(str(table))[0]\n",
      "C:\\Users\\Hong-Bin\\AppData\\Local\\Temp\\ipykernel_9820\\3232788066.py:15: FutureWarning: Passing literal html to 'read_html' is deprecated and will be removed in a future version. To read from a literal string, wrap it in a 'StringIO' object.\n",
      "  df = pd.read_html(str(table))[0]\n",
      "C:\\Users\\Hong-Bin\\AppData\\Local\\Temp\\ipykernel_9820\\3232788066.py:15: FutureWarning: Passing literal html to 'read_html' is deprecated and will be removed in a future version. To read from a literal string, wrap it in a 'StringIO' object.\n",
      "  df = pd.read_html(str(table))[0]\n",
      "C:\\Users\\Hong-Bin\\AppData\\Local\\Temp\\ipykernel_9820\\3232788066.py:15: FutureWarning: Passing literal html to 'read_html' is deprecated and will be removed in a future version. To read from a literal string, wrap it in a 'StringIO' object.\n",
      "  df = pd.read_html(str(table))[0]\n",
      "C:\\Users\\Hong-Bin\\AppData\\Local\\Temp\\ipykernel_9820\\3232788066.py:15: FutureWarning: Passing literal html to 'read_html' is deprecated and will be removed in a future version. To read from a literal string, wrap it in a 'StringIO' object.\n",
      "  df = pd.read_html(str(table))[0]\n"
     ]
    },
    {
     "name": "stdout",
     "output_type": "stream",
     "text": [
      "Extracting from https://www.hyundainews.com/en-us/releases/4342\n",
      "Extracting from https://www.hyundainews.com/en-us/releases/4322\n",
      "Extracting from https://www.hyundainews.com/en-us/releases/4322\n",
      "Extracting from https://www.hyundainews.com/en-us/releases/4322\n"
     ]
    },
    {
     "name": "stderr",
     "output_type": "stream",
     "text": [
      "C:\\Users\\Hong-Bin\\AppData\\Local\\Temp\\ipykernel_9820\\3232788066.py:15: FutureWarning: Passing literal html to 'read_html' is deprecated and will be removed in a future version. To read from a literal string, wrap it in a 'StringIO' object.\n",
      "  df = pd.read_html(str(table))[0]\n",
      "C:\\Users\\Hong-Bin\\AppData\\Local\\Temp\\ipykernel_9820\\3232788066.py:15: FutureWarning: Passing literal html to 'read_html' is deprecated and will be removed in a future version. To read from a literal string, wrap it in a 'StringIO' object.\n",
      "  df = pd.read_html(str(table))[0]\n",
      "C:\\Users\\Hong-Bin\\AppData\\Local\\Temp\\ipykernel_9820\\3232788066.py:15: FutureWarning: Passing literal html to 'read_html' is deprecated and will be removed in a future version. To read from a literal string, wrap it in a 'StringIO' object.\n",
      "  df = pd.read_html(str(table))[0]\n",
      "C:\\Users\\Hong-Bin\\AppData\\Local\\Temp\\ipykernel_9820\\3232788066.py:15: FutureWarning: Passing literal html to 'read_html' is deprecated and will be removed in a future version. To read from a literal string, wrap it in a 'StringIO' object.\n",
      "  df = pd.read_html(str(table))[0]\n",
      "C:\\Users\\Hong-Bin\\AppData\\Local\\Temp\\ipykernel_9820\\3232788066.py:15: FutureWarning: Passing literal html to 'read_html' is deprecated and will be removed in a future version. To read from a literal string, wrap it in a 'StringIO' object.\n",
      "  df = pd.read_html(str(table))[0]\n",
      "C:\\Users\\Hong-Bin\\AppData\\Local\\Temp\\ipykernel_9820\\3232788066.py:15: FutureWarning: Passing literal html to 'read_html' is deprecated and will be removed in a future version. To read from a literal string, wrap it in a 'StringIO' object.\n",
      "  df = pd.read_html(str(table))[0]\n"
     ]
    },
    {
     "name": "stdout",
     "output_type": "stream",
     "text": [
      "Extracting from https://www.hyundainews.com/en-us/releases/4285\n",
      "Extracting from https://www.hyundainews.com/en-us/releases/4285\n",
      "Extracting from https://www.hyundainews.com/en-us/releases/4285\n"
     ]
    },
    {
     "name": "stderr",
     "output_type": "stream",
     "text": [
      "C:\\Users\\Hong-Bin\\AppData\\Local\\Temp\\ipykernel_9820\\3232788066.py:15: FutureWarning: Passing literal html to 'read_html' is deprecated and will be removed in a future version. To read from a literal string, wrap it in a 'StringIO' object.\n",
      "  df = pd.read_html(str(table))[0]\n",
      "C:\\Users\\Hong-Bin\\AppData\\Local\\Temp\\ipykernel_9820\\3232788066.py:15: FutureWarning: Passing literal html to 'read_html' is deprecated and will be removed in a future version. To read from a literal string, wrap it in a 'StringIO' object.\n",
      "  df = pd.read_html(str(table))[0]\n",
      "C:\\Users\\Hong-Bin\\AppData\\Local\\Temp\\ipykernel_9820\\3232788066.py:15: FutureWarning: Passing literal html to 'read_html' is deprecated and will be removed in a future version. To read from a literal string, wrap it in a 'StringIO' object.\n",
      "  df = pd.read_html(str(table))[0]\n",
      "C:\\Users\\Hong-Bin\\AppData\\Local\\Temp\\ipykernel_9820\\3232788066.py:15: FutureWarning: Passing literal html to 'read_html' is deprecated and will be removed in a future version. To read from a literal string, wrap it in a 'StringIO' object.\n",
      "  df = pd.read_html(str(table))[0]\n",
      "C:\\Users\\Hong-Bin\\AppData\\Local\\Temp\\ipykernel_9820\\3232788066.py:15: FutureWarning: Passing literal html to 'read_html' is deprecated and will be removed in a future version. To read from a literal string, wrap it in a 'StringIO' object.\n",
      "  df = pd.read_html(str(table))[0]\n",
      "C:\\Users\\Hong-Bin\\AppData\\Local\\Temp\\ipykernel_9820\\3232788066.py:15: FutureWarning: Passing literal html to 'read_html' is deprecated and will be removed in a future version. To read from a literal string, wrap it in a 'StringIO' object.\n",
      "  df = pd.read_html(str(table))[0]\n"
     ]
    },
    {
     "name": "stdout",
     "output_type": "stream",
     "text": [
      "Extracting from https://www.hyundainews.com/en-us/releases/4258\n",
      "Extracting from https://www.hyundainews.com/en-us/releases/4258\n",
      "Extracting from https://www.hyundainews.com/en-us/releases/4258\n"
     ]
    },
    {
     "name": "stderr",
     "output_type": "stream",
     "text": [
      "C:\\Users\\Hong-Bin\\AppData\\Local\\Temp\\ipykernel_9820\\3232788066.py:15: FutureWarning: Passing literal html to 'read_html' is deprecated and will be removed in a future version. To read from a literal string, wrap it in a 'StringIO' object.\n",
      "  df = pd.read_html(str(table))[0]\n",
      "C:\\Users\\Hong-Bin\\AppData\\Local\\Temp\\ipykernel_9820\\3232788066.py:15: FutureWarning: Passing literal html to 'read_html' is deprecated and will be removed in a future version. To read from a literal string, wrap it in a 'StringIO' object.\n",
      "  df = pd.read_html(str(table))[0]\n",
      "C:\\Users\\Hong-Bin\\AppData\\Local\\Temp\\ipykernel_9820\\3232788066.py:15: FutureWarning: Passing literal html to 'read_html' is deprecated and will be removed in a future version. To read from a literal string, wrap it in a 'StringIO' object.\n",
      "  df = pd.read_html(str(table))[0]\n",
      "C:\\Users\\Hong-Bin\\AppData\\Local\\Temp\\ipykernel_9820\\3232788066.py:15: FutureWarning: Passing literal html to 'read_html' is deprecated and will be removed in a future version. To read from a literal string, wrap it in a 'StringIO' object.\n",
      "  df = pd.read_html(str(table))[0]\n",
      "C:\\Users\\Hong-Bin\\AppData\\Local\\Temp\\ipykernel_9820\\3232788066.py:15: FutureWarning: Passing literal html to 'read_html' is deprecated and will be removed in a future version. To read from a literal string, wrap it in a 'StringIO' object.\n",
      "  df = pd.read_html(str(table))[0]\n",
      "C:\\Users\\Hong-Bin\\AppData\\Local\\Temp\\ipykernel_9820\\3232788066.py:15: FutureWarning: Passing literal html to 'read_html' is deprecated and will be removed in a future version. To read from a literal string, wrap it in a 'StringIO' object.\n",
      "  df = pd.read_html(str(table))[0]\n",
      "C:\\Users\\Hong-Bin\\AppData\\Local\\Temp\\ipykernel_9820\\3232788066.py:15: FutureWarning: Passing literal html to 'read_html' is deprecated and will be removed in a future version. To read from a literal string, wrap it in a 'StringIO' object.\n",
      "  df = pd.read_html(str(table))[0]\n",
      "C:\\Users\\Hong-Bin\\AppData\\Local\\Temp\\ipykernel_9820\\3232788066.py:15: FutureWarning: Passing literal html to 'read_html' is deprecated and will be removed in a future version. To read from a literal string, wrap it in a 'StringIO' object.\n",
      "  df = pd.read_html(str(table))[0]\n"
     ]
    },
    {
     "name": "stdout",
     "output_type": "stream",
     "text": [
      "Extracting from https://www.hyundainews.com/en-us/releases/4236\n",
      "Extracting from https://www.hyundainews.com/en-us/releases/4236\n",
      "Extracting from https://www.hyundainews.com/en-us/releases/4236\n",
      "Extracting from https://www.hyundainews.com/en-us/releases/4210\n"
     ]
    },
    {
     "name": "stderr",
     "output_type": "stream",
     "text": [
      "C:\\Users\\Hong-Bin\\AppData\\Local\\Temp\\ipykernel_9820\\3232788066.py:15: FutureWarning: Passing literal html to 'read_html' is deprecated and will be removed in a future version. To read from a literal string, wrap it in a 'StringIO' object.\n",
      "  df = pd.read_html(str(table))[0]\n",
      "C:\\Users\\Hong-Bin\\AppData\\Local\\Temp\\ipykernel_9820\\3232788066.py:15: FutureWarning: Passing literal html to 'read_html' is deprecated and will be removed in a future version. To read from a literal string, wrap it in a 'StringIO' object.\n",
      "  df = pd.read_html(str(table))[0]\n",
      "C:\\Users\\Hong-Bin\\AppData\\Local\\Temp\\ipykernel_9820\\3232788066.py:15: FutureWarning: Passing literal html to 'read_html' is deprecated and will be removed in a future version. To read from a literal string, wrap it in a 'StringIO' object.\n",
      "  df = pd.read_html(str(table))[0]\n",
      "C:\\Users\\Hong-Bin\\AppData\\Local\\Temp\\ipykernel_9820\\3232788066.py:15: FutureWarning: Passing literal html to 'read_html' is deprecated and will be removed in a future version. To read from a literal string, wrap it in a 'StringIO' object.\n",
      "  df = pd.read_html(str(table))[0]\n",
      "C:\\Users\\Hong-Bin\\AppData\\Local\\Temp\\ipykernel_9820\\3232788066.py:15: FutureWarning: Passing literal html to 'read_html' is deprecated and will be removed in a future version. To read from a literal string, wrap it in a 'StringIO' object.\n",
      "  df = pd.read_html(str(table))[0]\n",
      "C:\\Users\\Hong-Bin\\AppData\\Local\\Temp\\ipykernel_9820\\3232788066.py:15: FutureWarning: Passing literal html to 'read_html' is deprecated and will be removed in a future version. To read from a literal string, wrap it in a 'StringIO' object.\n",
      "  df = pd.read_html(str(table))[0]\n"
     ]
    },
    {
     "name": "stdout",
     "output_type": "stream",
     "text": [
      "Extracting from https://www.hyundainews.com/en-us/releases/4210\n",
      "Extracting from https://www.hyundainews.com/en-us/releases/4210\n",
      "Extracting from https://www.hyundainews.com/en-us/releases/4184\n"
     ]
    },
    {
     "name": "stderr",
     "output_type": "stream",
     "text": [
      "C:\\Users\\Hong-Bin\\AppData\\Local\\Temp\\ipykernel_9820\\3232788066.py:15: FutureWarning: Passing literal html to 'read_html' is deprecated and will be removed in a future version. To read from a literal string, wrap it in a 'StringIO' object.\n",
      "  df = pd.read_html(str(table))[0]\n",
      "C:\\Users\\Hong-Bin\\AppData\\Local\\Temp\\ipykernel_9820\\3232788066.py:15: FutureWarning: Passing literal html to 'read_html' is deprecated and will be removed in a future version. To read from a literal string, wrap it in a 'StringIO' object.\n",
      "  df = pd.read_html(str(table))[0]\n",
      "C:\\Users\\Hong-Bin\\AppData\\Local\\Temp\\ipykernel_9820\\3232788066.py:15: FutureWarning: Passing literal html to 'read_html' is deprecated and will be removed in a future version. To read from a literal string, wrap it in a 'StringIO' object.\n",
      "  df = pd.read_html(str(table))[0]\n",
      "C:\\Users\\Hong-Bin\\AppData\\Local\\Temp\\ipykernel_9820\\3232788066.py:15: FutureWarning: Passing literal html to 'read_html' is deprecated and will be removed in a future version. To read from a literal string, wrap it in a 'StringIO' object.\n",
      "  df = pd.read_html(str(table))[0]\n",
      "C:\\Users\\Hong-Bin\\AppData\\Local\\Temp\\ipykernel_9820\\3232788066.py:15: FutureWarning: Passing literal html to 'read_html' is deprecated and will be removed in a future version. To read from a literal string, wrap it in a 'StringIO' object.\n",
      "  df = pd.read_html(str(table))[0]\n",
      "C:\\Users\\Hong-Bin\\AppData\\Local\\Temp\\ipykernel_9820\\3232788066.py:15: FutureWarning: Passing literal html to 'read_html' is deprecated and will be removed in a future version. To read from a literal string, wrap it in a 'StringIO' object.\n",
      "  df = pd.read_html(str(table))[0]\n",
      "C:\\Users\\Hong-Bin\\AppData\\Local\\Temp\\ipykernel_9820\\3232788066.py:15: FutureWarning: Passing literal html to 'read_html' is deprecated and will be removed in a future version. To read from a literal string, wrap it in a 'StringIO' object.\n",
      "  df = pd.read_html(str(table))[0]\n",
      "C:\\Users\\Hong-Bin\\AppData\\Local\\Temp\\ipykernel_9820\\3232788066.py:15: FutureWarning: Passing literal html to 'read_html' is deprecated and will be removed in a future version. To read from a literal string, wrap it in a 'StringIO' object.\n",
      "  df = pd.read_html(str(table))[0]\n"
     ]
    },
    {
     "name": "stdout",
     "output_type": "stream",
     "text": [
      "Extracting from https://www.hyundainews.com/en-us/releases/4184\n",
      "Extracting from https://www.hyundainews.com/en-us/releases/4184\n",
      "Extracting from https://www.hyundainews.com/en-us/releases/4155\n",
      "Extracting from https://www.hyundainews.com/en-us/releases/4155\n"
     ]
    },
    {
     "name": "stderr",
     "output_type": "stream",
     "text": [
      "C:\\Users\\Hong-Bin\\AppData\\Local\\Temp\\ipykernel_9820\\3232788066.py:15: FutureWarning: Passing literal html to 'read_html' is deprecated and will be removed in a future version. To read from a literal string, wrap it in a 'StringIO' object.\n",
      "  df = pd.read_html(str(table))[0]\n",
      "C:\\Users\\Hong-Bin\\AppData\\Local\\Temp\\ipykernel_9820\\3232788066.py:15: FutureWarning: Passing literal html to 'read_html' is deprecated and will be removed in a future version. To read from a literal string, wrap it in a 'StringIO' object.\n",
      "  df = pd.read_html(str(table))[0]\n",
      "C:\\Users\\Hong-Bin\\AppData\\Local\\Temp\\ipykernel_9820\\3232788066.py:15: FutureWarning: Passing literal html to 'read_html' is deprecated and will be removed in a future version. To read from a literal string, wrap it in a 'StringIO' object.\n",
      "  df = pd.read_html(str(table))[0]\n",
      "C:\\Users\\Hong-Bin\\AppData\\Local\\Temp\\ipykernel_9820\\3232788066.py:15: FutureWarning: Passing literal html to 'read_html' is deprecated and will be removed in a future version. To read from a literal string, wrap it in a 'StringIO' object.\n",
      "  df = pd.read_html(str(table))[0]\n",
      "C:\\Users\\Hong-Bin\\AppData\\Local\\Temp\\ipykernel_9820\\3232788066.py:15: FutureWarning: Passing literal html to 'read_html' is deprecated and will be removed in a future version. To read from a literal string, wrap it in a 'StringIO' object.\n",
      "  df = pd.read_html(str(table))[0]\n",
      "C:\\Users\\Hong-Bin\\AppData\\Local\\Temp\\ipykernel_9820\\3232788066.py:15: FutureWarning: Passing literal html to 'read_html' is deprecated and will be removed in a future version. To read from a literal string, wrap it in a 'StringIO' object.\n",
      "  df = pd.read_html(str(table))[0]\n",
      "C:\\Users\\Hong-Bin\\AppData\\Local\\Temp\\ipykernel_9820\\3232788066.py:15: FutureWarning: Passing literal html to 'read_html' is deprecated and will be removed in a future version. To read from a literal string, wrap it in a 'StringIO' object.\n",
      "  df = pd.read_html(str(table))[0]\n",
      "C:\\Users\\Hong-Bin\\AppData\\Local\\Temp\\ipykernel_9820\\3232788066.py:15: FutureWarning: Passing literal html to 'read_html' is deprecated and will be removed in a future version. To read from a literal string, wrap it in a 'StringIO' object.\n",
      "  df = pd.read_html(str(table))[0]\n"
     ]
    },
    {
     "name": "stdout",
     "output_type": "stream",
     "text": [
      "Extracting from https://www.hyundainews.com/en-us/releases/4155\n",
      "Extracting from https://www.hyundainews.com/en-us/releases/4134\n",
      "Extracting from https://www.hyundainews.com/en-us/releases/4134\n",
      "Extracting from https://www.hyundainews.com/en-us/releases/4134\n"
     ]
    },
    {
     "name": "stderr",
     "output_type": "stream",
     "text": [
      "C:\\Users\\Hong-Bin\\AppData\\Local\\Temp\\ipykernel_9820\\3232788066.py:15: FutureWarning: Passing literal html to 'read_html' is deprecated and will be removed in a future version. To read from a literal string, wrap it in a 'StringIO' object.\n",
      "  df = pd.read_html(str(table))[0]\n",
      "C:\\Users\\Hong-Bin\\AppData\\Local\\Temp\\ipykernel_9820\\3232788066.py:15: FutureWarning: Passing literal html to 'read_html' is deprecated and will be removed in a future version. To read from a literal string, wrap it in a 'StringIO' object.\n",
      "  df = pd.read_html(str(table))[0]\n",
      "C:\\Users\\Hong-Bin\\AppData\\Local\\Temp\\ipykernel_9820\\3232788066.py:15: FutureWarning: Passing literal html to 'read_html' is deprecated and will be removed in a future version. To read from a literal string, wrap it in a 'StringIO' object.\n",
      "  df = pd.read_html(str(table))[0]\n",
      "C:\\Users\\Hong-Bin\\AppData\\Local\\Temp\\ipykernel_9820\\3232788066.py:15: FutureWarning: Passing literal html to 'read_html' is deprecated and will be removed in a future version. To read from a literal string, wrap it in a 'StringIO' object.\n",
      "  df = pd.read_html(str(table))[0]\n",
      "C:\\Users\\Hong-Bin\\AppData\\Local\\Temp\\ipykernel_9820\\3232788066.py:15: FutureWarning: Passing literal html to 'read_html' is deprecated and will be removed in a future version. To read from a literal string, wrap it in a 'StringIO' object.\n",
      "  df = pd.read_html(str(table))[0]\n",
      "C:\\Users\\Hong-Bin\\AppData\\Local\\Temp\\ipykernel_9820\\3232788066.py:15: FutureWarning: Passing literal html to 'read_html' is deprecated and will be removed in a future version. To read from a literal string, wrap it in a 'StringIO' object.\n",
      "  df = pd.read_html(str(table))[0]\n"
     ]
    },
    {
     "name": "stdout",
     "output_type": "stream",
     "text": [
      "Extracting from https://www.hyundainews.com/en-us/releases/4116\n",
      "Extracting from https://www.hyundainews.com/en-us/releases/4116\n",
      "Extracting from https://www.hyundainews.com/en-us/releases/4116\n"
     ]
    },
    {
     "name": "stderr",
     "output_type": "stream",
     "text": [
      "C:\\Users\\Hong-Bin\\AppData\\Local\\Temp\\ipykernel_9820\\3232788066.py:15: FutureWarning: Passing literal html to 'read_html' is deprecated and will be removed in a future version. To read from a literal string, wrap it in a 'StringIO' object.\n",
      "  df = pd.read_html(str(table))[0]\n",
      "C:\\Users\\Hong-Bin\\AppData\\Local\\Temp\\ipykernel_9820\\3232788066.py:15: FutureWarning: Passing literal html to 'read_html' is deprecated and will be removed in a future version. To read from a literal string, wrap it in a 'StringIO' object.\n",
      "  df = pd.read_html(str(table))[0]\n",
      "C:\\Users\\Hong-Bin\\AppData\\Local\\Temp\\ipykernel_9820\\3232788066.py:15: FutureWarning: Passing literal html to 'read_html' is deprecated and will be removed in a future version. To read from a literal string, wrap it in a 'StringIO' object.\n",
      "  df = pd.read_html(str(table))[0]\n",
      "C:\\Users\\Hong-Bin\\AppData\\Local\\Temp\\ipykernel_9820\\3232788066.py:15: FutureWarning: Passing literal html to 'read_html' is deprecated and will be removed in a future version. To read from a literal string, wrap it in a 'StringIO' object.\n",
      "  df = pd.read_html(str(table))[0]\n",
      "C:\\Users\\Hong-Bin\\AppData\\Local\\Temp\\ipykernel_9820\\3232788066.py:15: FutureWarning: Passing literal html to 'read_html' is deprecated and will be removed in a future version. To read from a literal string, wrap it in a 'StringIO' object.\n",
      "  df = pd.read_html(str(table))[0]\n",
      "C:\\Users\\Hong-Bin\\AppData\\Local\\Temp\\ipykernel_9820\\3232788066.py:15: FutureWarning: Passing literal html to 'read_html' is deprecated and will be removed in a future version. To read from a literal string, wrap it in a 'StringIO' object.\n",
      "  df = pd.read_html(str(table))[0]\n",
      "C:\\Users\\Hong-Bin\\AppData\\Local\\Temp\\ipykernel_9820\\3232788066.py:15: FutureWarning: Passing literal html to 'read_html' is deprecated and will be removed in a future version. To read from a literal string, wrap it in a 'StringIO' object.\n",
      "  df = pd.read_html(str(table))[0]\n",
      "C:\\Users\\Hong-Bin\\AppData\\Local\\Temp\\ipykernel_9820\\3232788066.py:15: FutureWarning: Passing literal html to 'read_html' is deprecated and will be removed in a future version. To read from a literal string, wrap it in a 'StringIO' object.\n",
      "  df = pd.read_html(str(table))[0]\n"
     ]
    },
    {
     "name": "stdout",
     "output_type": "stream",
     "text": [
      "Extracting from https://www.hyundainews.com/en-us/releases/4086\n",
      "Extracting from https://www.hyundainews.com/en-us/releases/4086\n",
      "Extracting from https://www.hyundainews.com/en-us/releases/4086\n",
      "Extracting from https://www.hyundainews.com/en-us/releases/4067\n"
     ]
    },
    {
     "name": "stderr",
     "output_type": "stream",
     "text": [
      "C:\\Users\\Hong-Bin\\AppData\\Local\\Temp\\ipykernel_9820\\3232788066.py:15: FutureWarning: Passing literal html to 'read_html' is deprecated and will be removed in a future version. To read from a literal string, wrap it in a 'StringIO' object.\n",
      "  df = pd.read_html(str(table))[0]\n",
      "C:\\Users\\Hong-Bin\\AppData\\Local\\Temp\\ipykernel_9820\\3232788066.py:15: FutureWarning: Passing literal html to 'read_html' is deprecated and will be removed in a future version. To read from a literal string, wrap it in a 'StringIO' object.\n",
      "  df = pd.read_html(str(table))[0]\n",
      "C:\\Users\\Hong-Bin\\AppData\\Local\\Temp\\ipykernel_9820\\3232788066.py:15: FutureWarning: Passing literal html to 'read_html' is deprecated and will be removed in a future version. To read from a literal string, wrap it in a 'StringIO' object.\n",
      "  df = pd.read_html(str(table))[0]\n",
      "C:\\Users\\Hong-Bin\\AppData\\Local\\Temp\\ipykernel_9820\\3232788066.py:15: FutureWarning: Passing literal html to 'read_html' is deprecated and will be removed in a future version. To read from a literal string, wrap it in a 'StringIO' object.\n",
      "  df = pd.read_html(str(table))[0]\n"
     ]
    },
    {
     "name": "stdout",
     "output_type": "stream",
     "text": [
      "Extracting from https://www.hyundainews.com/en-us/releases/4067\n",
      "Extracting from https://www.hyundainews.com/en-us/releases/4067\n"
     ]
    },
    {
     "name": "stderr",
     "output_type": "stream",
     "text": [
      "C:\\Users\\Hong-Bin\\AppData\\Local\\Temp\\ipykernel_9820\\3232788066.py:15: FutureWarning: Passing literal html to 'read_html' is deprecated and will be removed in a future version. To read from a literal string, wrap it in a 'StringIO' object.\n",
      "  df = pd.read_html(str(table))[0]\n",
      "C:\\Users\\Hong-Bin\\AppData\\Local\\Temp\\ipykernel_9820\\3232788066.py:15: FutureWarning: Passing literal html to 'read_html' is deprecated and will be removed in a future version. To read from a literal string, wrap it in a 'StringIO' object.\n",
      "  df = pd.read_html(str(table))[0]\n",
      "C:\\Users\\Hong-Bin\\AppData\\Local\\Temp\\ipykernel_9820\\3232788066.py:15: FutureWarning: Passing literal html to 'read_html' is deprecated and will be removed in a future version. To read from a literal string, wrap it in a 'StringIO' object.\n",
      "  df = pd.read_html(str(table))[0]\n",
      "C:\\Users\\Hong-Bin\\AppData\\Local\\Temp\\ipykernel_9820\\3232788066.py:15: FutureWarning: Passing literal html to 'read_html' is deprecated and will be removed in a future version. To read from a literal string, wrap it in a 'StringIO' object.\n",
      "  df = pd.read_html(str(table))[0]\n",
      "C:\\Users\\Hong-Bin\\AppData\\Local\\Temp\\ipykernel_9820\\3232788066.py:15: FutureWarning: Passing literal html to 'read_html' is deprecated and will be removed in a future version. To read from a literal string, wrap it in a 'StringIO' object.\n",
      "  df = pd.read_html(str(table))[0]\n",
      "C:\\Users\\Hong-Bin\\AppData\\Local\\Temp\\ipykernel_9820\\3232788066.py:15: FutureWarning: Passing literal html to 'read_html' is deprecated and will be removed in a future version. To read from a literal string, wrap it in a 'StringIO' object.\n",
      "  df = pd.read_html(str(table))[0]\n"
     ]
    },
    {
     "name": "stdout",
     "output_type": "stream",
     "text": [
      "Extracting from https://www.hyundainews.com/en-us/releases/4037\n",
      "Extracting from https://www.hyundainews.com/en-us/releases/4037\n",
      "Extracting from https://www.hyundainews.com/en-us/releases/4037\n"
     ]
    },
    {
     "name": "stderr",
     "output_type": "stream",
     "text": [
      "C:\\Users\\Hong-Bin\\AppData\\Local\\Temp\\ipykernel_9820\\3232788066.py:15: FutureWarning: Passing literal html to 'read_html' is deprecated and will be removed in a future version. To read from a literal string, wrap it in a 'StringIO' object.\n",
      "  df = pd.read_html(str(table))[0]\n",
      "C:\\Users\\Hong-Bin\\AppData\\Local\\Temp\\ipykernel_9820\\3232788066.py:15: FutureWarning: Passing literal html to 'read_html' is deprecated and will be removed in a future version. To read from a literal string, wrap it in a 'StringIO' object.\n",
      "  df = pd.read_html(str(table))[0]\n",
      "C:\\Users\\Hong-Bin\\AppData\\Local\\Temp\\ipykernel_9820\\3232788066.py:15: FutureWarning: Passing literal html to 'read_html' is deprecated and will be removed in a future version. To read from a literal string, wrap it in a 'StringIO' object.\n",
      "  df = pd.read_html(str(table))[0]\n",
      "C:\\Users\\Hong-Bin\\AppData\\Local\\Temp\\ipykernel_9820\\3232788066.py:15: FutureWarning: Passing literal html to 'read_html' is deprecated and will be removed in a future version. To read from a literal string, wrap it in a 'StringIO' object.\n",
      "  df = pd.read_html(str(table))[0]\n",
      "C:\\Users\\Hong-Bin\\AppData\\Local\\Temp\\ipykernel_9820\\3232788066.py:15: FutureWarning: Passing literal html to 'read_html' is deprecated and will be removed in a future version. To read from a literal string, wrap it in a 'StringIO' object.\n",
      "  df = pd.read_html(str(table))[0]\n",
      "C:\\Users\\Hong-Bin\\AppData\\Local\\Temp\\ipykernel_9820\\3232788066.py:15: FutureWarning: Passing literal html to 'read_html' is deprecated and will be removed in a future version. To read from a literal string, wrap it in a 'StringIO' object.\n",
      "  df = pd.read_html(str(table))[0]\n"
     ]
    },
    {
     "name": "stdout",
     "output_type": "stream",
     "text": [
      "Extracting from https://www.hyundainews.com/en-us/releases/4012\n",
      "Extracting from https://www.hyundainews.com/en-us/releases/4012\n",
      "Extracting from https://www.hyundainews.com/en-us/releases/4012\n"
     ]
    },
    {
     "name": "stderr",
     "output_type": "stream",
     "text": [
      "C:\\Users\\Hong-Bin\\AppData\\Local\\Temp\\ipykernel_9820\\3232788066.py:15: FutureWarning: Passing literal html to 'read_html' is deprecated and will be removed in a future version. To read from a literal string, wrap it in a 'StringIO' object.\n",
      "  df = pd.read_html(str(table))[0]\n",
      "C:\\Users\\Hong-Bin\\AppData\\Local\\Temp\\ipykernel_9820\\3232788066.py:15: FutureWarning: Passing literal html to 'read_html' is deprecated and will be removed in a future version. To read from a literal string, wrap it in a 'StringIO' object.\n",
      "  df = pd.read_html(str(table))[0]\n",
      "C:\\Users\\Hong-Bin\\AppData\\Local\\Temp\\ipykernel_9820\\3232788066.py:15: FutureWarning: Passing literal html to 'read_html' is deprecated and will be removed in a future version. To read from a literal string, wrap it in a 'StringIO' object.\n",
      "  df = pd.read_html(str(table))[0]\n",
      "C:\\Users\\Hong-Bin\\AppData\\Local\\Temp\\ipykernel_9820\\3232788066.py:15: FutureWarning: Passing literal html to 'read_html' is deprecated and will be removed in a future version. To read from a literal string, wrap it in a 'StringIO' object.\n",
      "  df = pd.read_html(str(table))[0]\n",
      "C:\\Users\\Hong-Bin\\AppData\\Local\\Temp\\ipykernel_9820\\3232788066.py:15: FutureWarning: Passing literal html to 'read_html' is deprecated and will be removed in a future version. To read from a literal string, wrap it in a 'StringIO' object.\n",
      "  df = pd.read_html(str(table))[0]\n",
      "C:\\Users\\Hong-Bin\\AppData\\Local\\Temp\\ipykernel_9820\\3232788066.py:15: FutureWarning: Passing literal html to 'read_html' is deprecated and will be removed in a future version. To read from a literal string, wrap it in a 'StringIO' object.\n",
      "  df = pd.read_html(str(table))[0]\n"
     ]
    },
    {
     "name": "stdout",
     "output_type": "stream",
     "text": [
      "Extracting from https://www.hyundainews.com/en-us/releases/3980\n",
      "Extracting from https://www.hyundainews.com/en-us/releases/3980\n",
      "Extracting from https://www.hyundainews.com/en-us/releases/3980\n"
     ]
    },
    {
     "name": "stderr",
     "output_type": "stream",
     "text": [
      "C:\\Users\\Hong-Bin\\AppData\\Local\\Temp\\ipykernel_9820\\3232788066.py:15: FutureWarning: Passing literal html to 'read_html' is deprecated and will be removed in a future version. To read from a literal string, wrap it in a 'StringIO' object.\n",
      "  df = pd.read_html(str(table))[0]\n",
      "C:\\Users\\Hong-Bin\\AppData\\Local\\Temp\\ipykernel_9820\\3232788066.py:15: FutureWarning: Passing literal html to 'read_html' is deprecated and will be removed in a future version. To read from a literal string, wrap it in a 'StringIO' object.\n",
      "  df = pd.read_html(str(table))[0]\n",
      "C:\\Users\\Hong-Bin\\AppData\\Local\\Temp\\ipykernel_9820\\3232788066.py:15: FutureWarning: Passing literal html to 'read_html' is deprecated and will be removed in a future version. To read from a literal string, wrap it in a 'StringIO' object.\n",
      "  df = pd.read_html(str(table))[0]\n",
      "C:\\Users\\Hong-Bin\\AppData\\Local\\Temp\\ipykernel_9820\\3232788066.py:15: FutureWarning: Passing literal html to 'read_html' is deprecated and will be removed in a future version. To read from a literal string, wrap it in a 'StringIO' object.\n",
      "  df = pd.read_html(str(table))[0]\n",
      "C:\\Users\\Hong-Bin\\AppData\\Local\\Temp\\ipykernel_9820\\3232788066.py:15: FutureWarning: Passing literal html to 'read_html' is deprecated and will be removed in a future version. To read from a literal string, wrap it in a 'StringIO' object.\n",
      "  df = pd.read_html(str(table))[0]\n",
      "C:\\Users\\Hong-Bin\\AppData\\Local\\Temp\\ipykernel_9820\\3232788066.py:15: FutureWarning: Passing literal html to 'read_html' is deprecated and will be removed in a future version. To read from a literal string, wrap it in a 'StringIO' object.\n",
      "  df = pd.read_html(str(table))[0]\n"
     ]
    },
    {
     "name": "stdout",
     "output_type": "stream",
     "text": [
      "Extracting from https://www.hyundainews.com/en-us/releases/3950\n",
      "Extracting from https://www.hyundainews.com/en-us/releases/3950\n",
      "Extracting from https://www.hyundainews.com/en-us/releases/3950\n"
     ]
    },
    {
     "name": "stderr",
     "output_type": "stream",
     "text": [
      "C:\\Users\\Hong-Bin\\AppData\\Local\\Temp\\ipykernel_9820\\3232788066.py:15: FutureWarning: Passing literal html to 'read_html' is deprecated and will be removed in a future version. To read from a literal string, wrap it in a 'StringIO' object.\n",
      "  df = pd.read_html(str(table))[0]\n",
      "C:\\Users\\Hong-Bin\\AppData\\Local\\Temp\\ipykernel_9820\\3232788066.py:15: FutureWarning: Passing literal html to 'read_html' is deprecated and will be removed in a future version. To read from a literal string, wrap it in a 'StringIO' object.\n",
      "  df = pd.read_html(str(table))[0]\n",
      "C:\\Users\\Hong-Bin\\AppData\\Local\\Temp\\ipykernel_9820\\3232788066.py:15: FutureWarning: Passing literal html to 'read_html' is deprecated and will be removed in a future version. To read from a literal string, wrap it in a 'StringIO' object.\n",
      "  df = pd.read_html(str(table))[0]\n",
      "C:\\Users\\Hong-Bin\\AppData\\Local\\Temp\\ipykernel_9820\\3232788066.py:15: FutureWarning: Passing literal html to 'read_html' is deprecated and will be removed in a future version. To read from a literal string, wrap it in a 'StringIO' object.\n",
      "  df = pd.read_html(str(table))[0]\n",
      "C:\\Users\\Hong-Bin\\AppData\\Local\\Temp\\ipykernel_9820\\3232788066.py:15: FutureWarning: Passing literal html to 'read_html' is deprecated and will be removed in a future version. To read from a literal string, wrap it in a 'StringIO' object.\n",
      "  df = pd.read_html(str(table))[0]\n",
      "C:\\Users\\Hong-Bin\\AppData\\Local\\Temp\\ipykernel_9820\\3232788066.py:15: FutureWarning: Passing literal html to 'read_html' is deprecated and will be removed in a future version. To read from a literal string, wrap it in a 'StringIO' object.\n",
      "  df = pd.read_html(str(table))[0]\n"
     ]
    },
    {
     "name": "stdout",
     "output_type": "stream",
     "text": [
      "Extracting from https://www.hyundainews.com/en-us/releases/3921\n",
      "Extracting from https://www.hyundainews.com/en-us/releases/3921\n",
      "Extracting from https://www.hyundainews.com/en-us/releases/3921\n"
     ]
    },
    {
     "name": "stderr",
     "output_type": "stream",
     "text": [
      "C:\\Users\\Hong-Bin\\AppData\\Local\\Temp\\ipykernel_9820\\3232788066.py:15: FutureWarning: Passing literal html to 'read_html' is deprecated and will be removed in a future version. To read from a literal string, wrap it in a 'StringIO' object.\n",
      "  df = pd.read_html(str(table))[0]\n",
      "C:\\Users\\Hong-Bin\\AppData\\Local\\Temp\\ipykernel_9820\\3232788066.py:15: FutureWarning: Passing literal html to 'read_html' is deprecated and will be removed in a future version. To read from a literal string, wrap it in a 'StringIO' object.\n",
      "  df = pd.read_html(str(table))[0]\n",
      "C:\\Users\\Hong-Bin\\AppData\\Local\\Temp\\ipykernel_9820\\3232788066.py:15: FutureWarning: Passing literal html to 'read_html' is deprecated and will be removed in a future version. To read from a literal string, wrap it in a 'StringIO' object.\n",
      "  df = pd.read_html(str(table))[0]\n",
      "C:\\Users\\Hong-Bin\\AppData\\Local\\Temp\\ipykernel_9820\\3232788066.py:15: FutureWarning: Passing literal html to 'read_html' is deprecated and will be removed in a future version. To read from a literal string, wrap it in a 'StringIO' object.\n",
      "  df = pd.read_html(str(table))[0]\n",
      "C:\\Users\\Hong-Bin\\AppData\\Local\\Temp\\ipykernel_9820\\3232788066.py:15: FutureWarning: Passing literal html to 'read_html' is deprecated and will be removed in a future version. To read from a literal string, wrap it in a 'StringIO' object.\n",
      "  df = pd.read_html(str(table))[0]\n",
      "C:\\Users\\Hong-Bin\\AppData\\Local\\Temp\\ipykernel_9820\\3232788066.py:15: FutureWarning: Passing literal html to 'read_html' is deprecated and will be removed in a future version. To read from a literal string, wrap it in a 'StringIO' object.\n",
      "  df = pd.read_html(str(table))[0]\n",
      "C:\\Users\\Hong-Bin\\AppData\\Local\\Temp\\ipykernel_9820\\3232788066.py:15: FutureWarning: Passing literal html to 'read_html' is deprecated and will be removed in a future version. To read from a literal string, wrap it in a 'StringIO' object.\n",
      "  df = pd.read_html(str(table))[0]\n",
      "C:\\Users\\Hong-Bin\\AppData\\Local\\Temp\\ipykernel_9820\\3232788066.py:15: FutureWarning: Passing literal html to 'read_html' is deprecated and will be removed in a future version. To read from a literal string, wrap it in a 'StringIO' object.\n",
      "  df = pd.read_html(str(table))[0]\n"
     ]
    },
    {
     "name": "stdout",
     "output_type": "stream",
     "text": [
      "Extracting from https://www.hyundainews.com/en-us/releases/3896\n",
      "Extracting from https://www.hyundainews.com/en-us/releases/3896\n",
      "Extracting from https://www.hyundainews.com/en-us/releases/3896\n",
      "Extracting from https://www.hyundainews.com/en-us/releases/3875\n"
     ]
    },
    {
     "name": "stderr",
     "output_type": "stream",
     "text": [
      "C:\\Users\\Hong-Bin\\AppData\\Local\\Temp\\ipykernel_9820\\3232788066.py:15: FutureWarning: Passing literal html to 'read_html' is deprecated and will be removed in a future version. To read from a literal string, wrap it in a 'StringIO' object.\n",
      "  df = pd.read_html(str(table))[0]\n",
      "C:\\Users\\Hong-Bin\\AppData\\Local\\Temp\\ipykernel_9820\\3232788066.py:15: FutureWarning: Passing literal html to 'read_html' is deprecated and will be removed in a future version. To read from a literal string, wrap it in a 'StringIO' object.\n",
      "  df = pd.read_html(str(table))[0]\n",
      "C:\\Users\\Hong-Bin\\AppData\\Local\\Temp\\ipykernel_9820\\3232788066.py:15: FutureWarning: Passing literal html to 'read_html' is deprecated and will be removed in a future version. To read from a literal string, wrap it in a 'StringIO' object.\n",
      "  df = pd.read_html(str(table))[0]\n",
      "C:\\Users\\Hong-Bin\\AppData\\Local\\Temp\\ipykernel_9820\\3232788066.py:15: FutureWarning: Passing literal html to 'read_html' is deprecated and will be removed in a future version. To read from a literal string, wrap it in a 'StringIO' object.\n",
      "  df = pd.read_html(str(table))[0]\n",
      "C:\\Users\\Hong-Bin\\AppData\\Local\\Temp\\ipykernel_9820\\3232788066.py:15: FutureWarning: Passing literal html to 'read_html' is deprecated and will be removed in a future version. To read from a literal string, wrap it in a 'StringIO' object.\n",
      "  df = pd.read_html(str(table))[0]\n",
      "C:\\Users\\Hong-Bin\\AppData\\Local\\Temp\\ipykernel_9820\\3232788066.py:15: FutureWarning: Passing literal html to 'read_html' is deprecated and will be removed in a future version. To read from a literal string, wrap it in a 'StringIO' object.\n",
      "  df = pd.read_html(str(table))[0]\n"
     ]
    },
    {
     "name": "stdout",
     "output_type": "stream",
     "text": [
      "Extracting from https://www.hyundainews.com/en-us/releases/3875\n",
      "Extracting from https://www.hyundainews.com/en-us/releases/3875\n",
      "Extracting from https://www.hyundainews.com/en-us/releases/3850\n"
     ]
    },
    {
     "name": "stderr",
     "output_type": "stream",
     "text": [
      "C:\\Users\\Hong-Bin\\AppData\\Local\\Temp\\ipykernel_9820\\3232788066.py:15: FutureWarning: Passing literal html to 'read_html' is deprecated and will be removed in a future version. To read from a literal string, wrap it in a 'StringIO' object.\n",
      "  df = pd.read_html(str(table))[0]\n",
      "C:\\Users\\Hong-Bin\\AppData\\Local\\Temp\\ipykernel_9820\\3232788066.py:15: FutureWarning: Passing literal html to 'read_html' is deprecated and will be removed in a future version. To read from a literal string, wrap it in a 'StringIO' object.\n",
      "  df = pd.read_html(str(table))[0]\n",
      "C:\\Users\\Hong-Bin\\AppData\\Local\\Temp\\ipykernel_9820\\3232788066.py:15: FutureWarning: Passing literal html to 'read_html' is deprecated and will be removed in a future version. To read from a literal string, wrap it in a 'StringIO' object.\n",
      "  df = pd.read_html(str(table))[0]\n",
      "C:\\Users\\Hong-Bin\\AppData\\Local\\Temp\\ipykernel_9820\\3232788066.py:15: FutureWarning: Passing literal html to 'read_html' is deprecated and will be removed in a future version. To read from a literal string, wrap it in a 'StringIO' object.\n",
      "  df = pd.read_html(str(table))[0]\n",
      "C:\\Users\\Hong-Bin\\AppData\\Local\\Temp\\ipykernel_9820\\3232788066.py:15: FutureWarning: Passing literal html to 'read_html' is deprecated and will be removed in a future version. To read from a literal string, wrap it in a 'StringIO' object.\n",
      "  df = pd.read_html(str(table))[0]\n",
      "C:\\Users\\Hong-Bin\\AppData\\Local\\Temp\\ipykernel_9820\\3232788066.py:15: FutureWarning: Passing literal html to 'read_html' is deprecated and will be removed in a future version. To read from a literal string, wrap it in a 'StringIO' object.\n",
      "  df = pd.read_html(str(table))[0]\n",
      "C:\\Users\\Hong-Bin\\AppData\\Local\\Temp\\ipykernel_9820\\3232788066.py:15: FutureWarning: Passing literal html to 'read_html' is deprecated and will be removed in a future version. To read from a literal string, wrap it in a 'StringIO' object.\n",
      "  df = pd.read_html(str(table))[0]\n"
     ]
    },
    {
     "name": "stdout",
     "output_type": "stream",
     "text": [
      "Extracting from https://www.hyundainews.com/en-us/releases/3850\n",
      "Extracting from https://www.hyundainews.com/en-us/releases/3850\n",
      "Extracting from https://www.hyundainews.com/en-us/releases/3826\n"
     ]
    },
    {
     "name": "stderr",
     "output_type": "stream",
     "text": [
      "C:\\Users\\Hong-Bin\\AppData\\Local\\Temp\\ipykernel_9820\\3232788066.py:15: FutureWarning: Passing literal html to 'read_html' is deprecated and will be removed in a future version. To read from a literal string, wrap it in a 'StringIO' object.\n",
      "  df = pd.read_html(str(table))[0]\n",
      "C:\\Users\\Hong-Bin\\AppData\\Local\\Temp\\ipykernel_9820\\3232788066.py:15: FutureWarning: Passing literal html to 'read_html' is deprecated and will be removed in a future version. To read from a literal string, wrap it in a 'StringIO' object.\n",
      "  df = pd.read_html(str(table))[0]\n",
      "C:\\Users\\Hong-Bin\\AppData\\Local\\Temp\\ipykernel_9820\\3232788066.py:15: FutureWarning: Passing literal html to 'read_html' is deprecated and will be removed in a future version. To read from a literal string, wrap it in a 'StringIO' object.\n",
      "  df = pd.read_html(str(table))[0]\n",
      "C:\\Users\\Hong-Bin\\AppData\\Local\\Temp\\ipykernel_9820\\3232788066.py:15: FutureWarning: Passing literal html to 'read_html' is deprecated and will be removed in a future version. To read from a literal string, wrap it in a 'StringIO' object.\n",
      "  df = pd.read_html(str(table))[0]\n",
      "C:\\Users\\Hong-Bin\\AppData\\Local\\Temp\\ipykernel_9820\\3232788066.py:15: FutureWarning: Passing literal html to 'read_html' is deprecated and will be removed in a future version. To read from a literal string, wrap it in a 'StringIO' object.\n",
      "  df = pd.read_html(str(table))[0]\n",
      "C:\\Users\\Hong-Bin\\AppData\\Local\\Temp\\ipykernel_9820\\3232788066.py:15: FutureWarning: Passing literal html to 'read_html' is deprecated and will be removed in a future version. To read from a literal string, wrap it in a 'StringIO' object.\n",
      "  df = pd.read_html(str(table))[0]\n",
      "C:\\Users\\Hong-Bin\\AppData\\Local\\Temp\\ipykernel_9820\\3232788066.py:15: FutureWarning: Passing literal html to 'read_html' is deprecated and will be removed in a future version. To read from a literal string, wrap it in a 'StringIO' object.\n",
      "  df = pd.read_html(str(table))[0]\n"
     ]
    },
    {
     "name": "stdout",
     "output_type": "stream",
     "text": [
      "Extracting from https://www.hyundainews.com/en-us/releases/3826\n",
      "Extracting from https://www.hyundainews.com/en-us/releases/3826\n",
      "Extracting from https://www.hyundainews.com/en-us/releases/3800\n",
      "Extracting from https://www.hyundainews.com/en-us/releases/3800\n"
     ]
    },
    {
     "name": "stderr",
     "output_type": "stream",
     "text": [
      "C:\\Users\\Hong-Bin\\AppData\\Local\\Temp\\ipykernel_9820\\3232788066.py:15: FutureWarning: Passing literal html to 'read_html' is deprecated and will be removed in a future version. To read from a literal string, wrap it in a 'StringIO' object.\n",
      "  df = pd.read_html(str(table))[0]\n",
      "C:\\Users\\Hong-Bin\\AppData\\Local\\Temp\\ipykernel_9820\\3232788066.py:15: FutureWarning: Passing literal html to 'read_html' is deprecated and will be removed in a future version. To read from a literal string, wrap it in a 'StringIO' object.\n",
      "  df = pd.read_html(str(table))[0]\n",
      "C:\\Users\\Hong-Bin\\AppData\\Local\\Temp\\ipykernel_9820\\3232788066.py:15: FutureWarning: Passing literal html to 'read_html' is deprecated and will be removed in a future version. To read from a literal string, wrap it in a 'StringIO' object.\n",
      "  df = pd.read_html(str(table))[0]\n",
      "C:\\Users\\Hong-Bin\\AppData\\Local\\Temp\\ipykernel_9820\\3232788066.py:15: FutureWarning: Passing literal html to 'read_html' is deprecated and will be removed in a future version. To read from a literal string, wrap it in a 'StringIO' object.\n",
      "  df = pd.read_html(str(table))[0]\n",
      "C:\\Users\\Hong-Bin\\AppData\\Local\\Temp\\ipykernel_9820\\3232788066.py:15: FutureWarning: Passing literal html to 'read_html' is deprecated and will be removed in a future version. To read from a literal string, wrap it in a 'StringIO' object.\n",
      "  df = pd.read_html(str(table))[0]\n",
      "C:\\Users\\Hong-Bin\\AppData\\Local\\Temp\\ipykernel_9820\\3232788066.py:15: FutureWarning: Passing literal html to 'read_html' is deprecated and will be removed in a future version. To read from a literal string, wrap it in a 'StringIO' object.\n",
      "  df = pd.read_html(str(table))[0]\n"
     ]
    },
    {
     "name": "stdout",
     "output_type": "stream",
     "text": [
      "Extracting from https://www.hyundainews.com/en-us/releases/3800\n",
      "Extracting from https://www.hyundainews.com/en-us/releases/3778\n",
      "Extracting from https://www.hyundainews.com/en-us/releases/3778\n"
     ]
    },
    {
     "name": "stderr",
     "output_type": "stream",
     "text": [
      "C:\\Users\\Hong-Bin\\AppData\\Local\\Temp\\ipykernel_9820\\3232788066.py:15: FutureWarning: Passing literal html to 'read_html' is deprecated and will be removed in a future version. To read from a literal string, wrap it in a 'StringIO' object.\n",
      "  df = pd.read_html(str(table))[0]\n",
      "C:\\Users\\Hong-Bin\\AppData\\Local\\Temp\\ipykernel_9820\\3232788066.py:15: FutureWarning: Passing literal html to 'read_html' is deprecated and will be removed in a future version. To read from a literal string, wrap it in a 'StringIO' object.\n",
      "  df = pd.read_html(str(table))[0]\n",
      "C:\\Users\\Hong-Bin\\AppData\\Local\\Temp\\ipykernel_9820\\3232788066.py:15: FutureWarning: Passing literal html to 'read_html' is deprecated and will be removed in a future version. To read from a literal string, wrap it in a 'StringIO' object.\n",
      "  df = pd.read_html(str(table))[0]\n",
      "C:\\Users\\Hong-Bin\\AppData\\Local\\Temp\\ipykernel_9820\\3232788066.py:15: FutureWarning: Passing literal html to 'read_html' is deprecated and will be removed in a future version. To read from a literal string, wrap it in a 'StringIO' object.\n",
      "  df = pd.read_html(str(table))[0]\n",
      "C:\\Users\\Hong-Bin\\AppData\\Local\\Temp\\ipykernel_9820\\3232788066.py:15: FutureWarning: Passing literal html to 'read_html' is deprecated and will be removed in a future version. To read from a literal string, wrap it in a 'StringIO' object.\n",
      "  df = pd.read_html(str(table))[0]\n",
      "C:\\Users\\Hong-Bin\\AppData\\Local\\Temp\\ipykernel_9820\\3232788066.py:15: FutureWarning: Passing literal html to 'read_html' is deprecated and will be removed in a future version. To read from a literal string, wrap it in a 'StringIO' object.\n",
      "  df = pd.read_html(str(table))[0]\n",
      "C:\\Users\\Hong-Bin\\AppData\\Local\\Temp\\ipykernel_9820\\3232788066.py:15: FutureWarning: Passing literal html to 'read_html' is deprecated and will be removed in a future version. To read from a literal string, wrap it in a 'StringIO' object.\n",
      "  df = pd.read_html(str(table))[0]\n"
     ]
    },
    {
     "name": "stdout",
     "output_type": "stream",
     "text": [
      "Extracting from https://www.hyundainews.com/en-us/releases/3778\n",
      "Extracting from https://www.hyundainews.com/en-us/releases/3754\n",
      "Extracting from https://www.hyundainews.com/en-us/releases/3754\n"
     ]
    },
    {
     "name": "stderr",
     "output_type": "stream",
     "text": [
      "C:\\Users\\Hong-Bin\\AppData\\Local\\Temp\\ipykernel_9820\\3232788066.py:15: FutureWarning: Passing literal html to 'read_html' is deprecated and will be removed in a future version. To read from a literal string, wrap it in a 'StringIO' object.\n",
      "  df = pd.read_html(str(table))[0]\n",
      "C:\\Users\\Hong-Bin\\AppData\\Local\\Temp\\ipykernel_9820\\3232788066.py:15: FutureWarning: Passing literal html to 'read_html' is deprecated and will be removed in a future version. To read from a literal string, wrap it in a 'StringIO' object.\n",
      "  df = pd.read_html(str(table))[0]\n",
      "C:\\Users\\Hong-Bin\\AppData\\Local\\Temp\\ipykernel_9820\\3232788066.py:15: FutureWarning: Passing literal html to 'read_html' is deprecated and will be removed in a future version. To read from a literal string, wrap it in a 'StringIO' object.\n",
      "  df = pd.read_html(str(table))[0]\n",
      "C:\\Users\\Hong-Bin\\AppData\\Local\\Temp\\ipykernel_9820\\3232788066.py:15: FutureWarning: Passing literal html to 'read_html' is deprecated and will be removed in a future version. To read from a literal string, wrap it in a 'StringIO' object.\n",
      "  df = pd.read_html(str(table))[0]\n",
      "C:\\Users\\Hong-Bin\\AppData\\Local\\Temp\\ipykernel_9820\\3232788066.py:15: FutureWarning: Passing literal html to 'read_html' is deprecated and will be removed in a future version. To read from a literal string, wrap it in a 'StringIO' object.\n",
      "  df = pd.read_html(str(table))[0]\n",
      "C:\\Users\\Hong-Bin\\AppData\\Local\\Temp\\ipykernel_9820\\3232788066.py:15: FutureWarning: Passing literal html to 'read_html' is deprecated and will be removed in a future version. To read from a literal string, wrap it in a 'StringIO' object.\n",
      "  df = pd.read_html(str(table))[0]\n",
      "C:\\Users\\Hong-Bin\\AppData\\Local\\Temp\\ipykernel_9820\\3232788066.py:15: FutureWarning: Passing literal html to 'read_html' is deprecated and will be removed in a future version. To read from a literal string, wrap it in a 'StringIO' object.\n",
      "  df = pd.read_html(str(table))[0]\n"
     ]
    },
    {
     "name": "stdout",
     "output_type": "stream",
     "text": [
      "Extracting from https://www.hyundainews.com/en-us/releases/3754\n",
      "Extracting from https://www.hyundainews.com/en-us/releases/3732\n",
      "Extracting from https://www.hyundainews.com/en-us/releases/3732\n",
      "Extracting from https://www.hyundainews.com/en-us/releases/3732\n"
     ]
    },
    {
     "name": "stderr",
     "output_type": "stream",
     "text": [
      "C:\\Users\\Hong-Bin\\AppData\\Local\\Temp\\ipykernel_9820\\3232788066.py:15: FutureWarning: Passing literal html to 'read_html' is deprecated and will be removed in a future version. To read from a literal string, wrap it in a 'StringIO' object.\n",
      "  df = pd.read_html(str(table))[0]\n",
      "C:\\Users\\Hong-Bin\\AppData\\Local\\Temp\\ipykernel_9820\\3232788066.py:15: FutureWarning: Passing literal html to 'read_html' is deprecated and will be removed in a future version. To read from a literal string, wrap it in a 'StringIO' object.\n",
      "  df = pd.read_html(str(table))[0]\n",
      "C:\\Users\\Hong-Bin\\AppData\\Local\\Temp\\ipykernel_9820\\3232788066.py:15: FutureWarning: Passing literal html to 'read_html' is deprecated and will be removed in a future version. To read from a literal string, wrap it in a 'StringIO' object.\n",
      "  df = pd.read_html(str(table))[0]\n",
      "C:\\Users\\Hong-Bin\\AppData\\Local\\Temp\\ipykernel_9820\\3232788066.py:15: FutureWarning: Passing literal html to 'read_html' is deprecated and will be removed in a future version. To read from a literal string, wrap it in a 'StringIO' object.\n",
      "  df = pd.read_html(str(table))[0]\n",
      "C:\\Users\\Hong-Bin\\AppData\\Local\\Temp\\ipykernel_9820\\3232788066.py:15: FutureWarning: Passing literal html to 'read_html' is deprecated and will be removed in a future version. To read from a literal string, wrap it in a 'StringIO' object.\n",
      "  df = pd.read_html(str(table))[0]\n",
      "C:\\Users\\Hong-Bin\\AppData\\Local\\Temp\\ipykernel_9820\\3232788066.py:15: FutureWarning: Passing literal html to 'read_html' is deprecated and will be removed in a future version. To read from a literal string, wrap it in a 'StringIO' object.\n",
      "  df = pd.read_html(str(table))[0]\n",
      "C:\\Users\\Hong-Bin\\AppData\\Local\\Temp\\ipykernel_9820\\3232788066.py:15: FutureWarning: Passing literal html to 'read_html' is deprecated and will be removed in a future version. To read from a literal string, wrap it in a 'StringIO' object.\n",
      "  df = pd.read_html(str(table))[0]\n",
      "C:\\Users\\Hong-Bin\\AppData\\Local\\Temp\\ipykernel_9820\\3232788066.py:15: FutureWarning: Passing literal html to 'read_html' is deprecated and will be removed in a future version. To read from a literal string, wrap it in a 'StringIO' object.\n",
      "  df = pd.read_html(str(table))[0]\n"
     ]
    },
    {
     "name": "stdout",
     "output_type": "stream",
     "text": [
      "Extracting from https://www.hyundainews.com/en-us/releases/3705\n",
      "Extracting from https://www.hyundainews.com/en-us/releases/3705\n",
      "Extracting from https://www.hyundainews.com/en-us/releases/3705\n",
      "Extracting from https://www.hyundainews.com/en-us/releases/3680\n"
     ]
    },
    {
     "name": "stderr",
     "output_type": "stream",
     "text": [
      "C:\\Users\\Hong-Bin\\AppData\\Local\\Temp\\ipykernel_9820\\3232788066.py:15: FutureWarning: Passing literal html to 'read_html' is deprecated and will be removed in a future version. To read from a literal string, wrap it in a 'StringIO' object.\n",
      "  df = pd.read_html(str(table))[0]\n",
      "C:\\Users\\Hong-Bin\\AppData\\Local\\Temp\\ipykernel_9820\\3232788066.py:15: FutureWarning: Passing literal html to 'read_html' is deprecated and will be removed in a future version. To read from a literal string, wrap it in a 'StringIO' object.\n",
      "  df = pd.read_html(str(table))[0]\n",
      "C:\\Users\\Hong-Bin\\AppData\\Local\\Temp\\ipykernel_9820\\3232788066.py:15: FutureWarning: Passing literal html to 'read_html' is deprecated and will be removed in a future version. To read from a literal string, wrap it in a 'StringIO' object.\n",
      "  df = pd.read_html(str(table))[0]\n",
      "C:\\Users\\Hong-Bin\\AppData\\Local\\Temp\\ipykernel_9820\\3232788066.py:15: FutureWarning: Passing literal html to 'read_html' is deprecated and will be removed in a future version. To read from a literal string, wrap it in a 'StringIO' object.\n",
      "  df = pd.read_html(str(table))[0]\n",
      "C:\\Users\\Hong-Bin\\AppData\\Local\\Temp\\ipykernel_9820\\3232788066.py:15: FutureWarning: Passing literal html to 'read_html' is deprecated and will be removed in a future version. To read from a literal string, wrap it in a 'StringIO' object.\n",
      "  df = pd.read_html(str(table))[0]\n",
      "C:\\Users\\Hong-Bin\\AppData\\Local\\Temp\\ipykernel_9820\\3232788066.py:15: FutureWarning: Passing literal html to 'read_html' is deprecated and will be removed in a future version. To read from a literal string, wrap it in a 'StringIO' object.\n",
      "  df = pd.read_html(str(table))[0]\n",
      "C:\\Users\\Hong-Bin\\AppData\\Local\\Temp\\ipykernel_9820\\3232788066.py:15: FutureWarning: Passing literal html to 'read_html' is deprecated and will be removed in a future version. To read from a literal string, wrap it in a 'StringIO' object.\n",
      "  df = pd.read_html(str(table))[0]\n",
      "C:\\Users\\Hong-Bin\\AppData\\Local\\Temp\\ipykernel_9820\\3232788066.py:15: FutureWarning: Passing literal html to 'read_html' is deprecated and will be removed in a future version. To read from a literal string, wrap it in a 'StringIO' object.\n",
      "  df = pd.read_html(str(table))[0]\n"
     ]
    },
    {
     "name": "stdout",
     "output_type": "stream",
     "text": [
      "Extracting from https://www.hyundainews.com/en-us/releases/3680\n",
      "Extracting from https://www.hyundainews.com/en-us/releases/3680\n",
      "Extracting from https://www.hyundainews.com/en-us/releases/3662\n",
      "Extracting from https://www.hyundainews.com/en-us/releases/3662\n"
     ]
    },
    {
     "name": "stderr",
     "output_type": "stream",
     "text": [
      "C:\\Users\\Hong-Bin\\AppData\\Local\\Temp\\ipykernel_9820\\3232788066.py:15: FutureWarning: Passing literal html to 'read_html' is deprecated and will be removed in a future version. To read from a literal string, wrap it in a 'StringIO' object.\n",
      "  df = pd.read_html(str(table))[0]\n",
      "C:\\Users\\Hong-Bin\\AppData\\Local\\Temp\\ipykernel_9820\\3232788066.py:15: FutureWarning: Passing literal html to 'read_html' is deprecated and will be removed in a future version. To read from a literal string, wrap it in a 'StringIO' object.\n",
      "  df = pd.read_html(str(table))[0]\n",
      "C:\\Users\\Hong-Bin\\AppData\\Local\\Temp\\ipykernel_9820\\3232788066.py:15: FutureWarning: Passing literal html to 'read_html' is deprecated and will be removed in a future version. To read from a literal string, wrap it in a 'StringIO' object.\n",
      "  df = pd.read_html(str(table))[0]\n",
      "C:\\Users\\Hong-Bin\\AppData\\Local\\Temp\\ipykernel_9820\\3232788066.py:15: FutureWarning: Passing literal html to 'read_html' is deprecated and will be removed in a future version. To read from a literal string, wrap it in a 'StringIO' object.\n",
      "  df = pd.read_html(str(table))[0]\n",
      "C:\\Users\\Hong-Bin\\AppData\\Local\\Temp\\ipykernel_9820\\3232788066.py:15: FutureWarning: Passing literal html to 'read_html' is deprecated and will be removed in a future version. To read from a literal string, wrap it in a 'StringIO' object.\n",
      "  df = pd.read_html(str(table))[0]\n",
      "C:\\Users\\Hong-Bin\\AppData\\Local\\Temp\\ipykernel_9820\\3232788066.py:15: FutureWarning: Passing literal html to 'read_html' is deprecated and will be removed in a future version. To read from a literal string, wrap it in a 'StringIO' object.\n",
      "  df = pd.read_html(str(table))[0]\n"
     ]
    },
    {
     "name": "stdout",
     "output_type": "stream",
     "text": [
      "Extracting from https://www.hyundainews.com/en-us/releases/3662\n",
      "Extracting from https://www.hyundainews.com/en-us/releases/3643\n",
      "Extracting from https://www.hyundainews.com/en-us/releases/3643\n"
     ]
    },
    {
     "name": "stderr",
     "output_type": "stream",
     "text": [
      "C:\\Users\\Hong-Bin\\AppData\\Local\\Temp\\ipykernel_9820\\3232788066.py:15: FutureWarning: Passing literal html to 'read_html' is deprecated and will be removed in a future version. To read from a literal string, wrap it in a 'StringIO' object.\n",
      "  df = pd.read_html(str(table))[0]\n",
      "C:\\Users\\Hong-Bin\\AppData\\Local\\Temp\\ipykernel_9820\\3232788066.py:15: FutureWarning: Passing literal html to 'read_html' is deprecated and will be removed in a future version. To read from a literal string, wrap it in a 'StringIO' object.\n",
      "  df = pd.read_html(str(table))[0]\n",
      "C:\\Users\\Hong-Bin\\AppData\\Local\\Temp\\ipykernel_9820\\3232788066.py:15: FutureWarning: Passing literal html to 'read_html' is deprecated and will be removed in a future version. To read from a literal string, wrap it in a 'StringIO' object.\n",
      "  df = pd.read_html(str(table))[0]\n",
      "C:\\Users\\Hong-Bin\\AppData\\Local\\Temp\\ipykernel_9820\\3232788066.py:15: FutureWarning: Passing literal html to 'read_html' is deprecated and will be removed in a future version. To read from a literal string, wrap it in a 'StringIO' object.\n",
      "  df = pd.read_html(str(table))[0]\n",
      "C:\\Users\\Hong-Bin\\AppData\\Local\\Temp\\ipykernel_9820\\3232788066.py:15: FutureWarning: Passing literal html to 'read_html' is deprecated and will be removed in a future version. To read from a literal string, wrap it in a 'StringIO' object.\n",
      "  df = pd.read_html(str(table))[0]\n",
      "C:\\Users\\Hong-Bin\\AppData\\Local\\Temp\\ipykernel_9820\\3232788066.py:15: FutureWarning: Passing literal html to 'read_html' is deprecated and will be removed in a future version. To read from a literal string, wrap it in a 'StringIO' object.\n",
      "  df = pd.read_html(str(table))[0]\n",
      "C:\\Users\\Hong-Bin\\AppData\\Local\\Temp\\ipykernel_9820\\3232788066.py:15: FutureWarning: Passing literal html to 'read_html' is deprecated and will be removed in a future version. To read from a literal string, wrap it in a 'StringIO' object.\n",
      "  df = pd.read_html(str(table))[0]\n",
      "C:\\Users\\Hong-Bin\\AppData\\Local\\Temp\\ipykernel_9820\\3232788066.py:15: FutureWarning: Passing literal html to 'read_html' is deprecated and will be removed in a future version. To read from a literal string, wrap it in a 'StringIO' object.\n",
      "  df = pd.read_html(str(table))[0]\n"
     ]
    },
    {
     "name": "stdout",
     "output_type": "stream",
     "text": [
      "Extracting from https://www.hyundainews.com/en-us/releases/3643\n",
      "Extracting from https://www.hyundainews.com/en-us/releases/3624\n",
      "Extracting from https://www.hyundainews.com/en-us/releases/3624\n",
      "Extracting from https://www.hyundainews.com/en-us/releases/3624\n"
     ]
    },
    {
     "name": "stderr",
     "output_type": "stream",
     "text": [
      "C:\\Users\\Hong-Bin\\AppData\\Local\\Temp\\ipykernel_9820\\3232788066.py:15: FutureWarning: Passing literal html to 'read_html' is deprecated and will be removed in a future version. To read from a literal string, wrap it in a 'StringIO' object.\n",
      "  df = pd.read_html(str(table))[0]\n",
      "C:\\Users\\Hong-Bin\\AppData\\Local\\Temp\\ipykernel_9820\\3232788066.py:15: FutureWarning: Passing literal html to 'read_html' is deprecated and will be removed in a future version. To read from a literal string, wrap it in a 'StringIO' object.\n",
      "  df = pd.read_html(str(table))[0]\n",
      "C:\\Users\\Hong-Bin\\AppData\\Local\\Temp\\ipykernel_9820\\3232788066.py:15: FutureWarning: Passing literal html to 'read_html' is deprecated and will be removed in a future version. To read from a literal string, wrap it in a 'StringIO' object.\n",
      "  df = pd.read_html(str(table))[0]\n",
      "C:\\Users\\Hong-Bin\\AppData\\Local\\Temp\\ipykernel_9820\\3232788066.py:15: FutureWarning: Passing literal html to 'read_html' is deprecated and will be removed in a future version. To read from a literal string, wrap it in a 'StringIO' object.\n",
      "  df = pd.read_html(str(table))[0]\n",
      "C:\\Users\\Hong-Bin\\AppData\\Local\\Temp\\ipykernel_9820\\3232788066.py:15: FutureWarning: Passing literal html to 'read_html' is deprecated and will be removed in a future version. To read from a literal string, wrap it in a 'StringIO' object.\n",
      "  df = pd.read_html(str(table))[0]\n",
      "C:\\Users\\Hong-Bin\\AppData\\Local\\Temp\\ipykernel_9820\\3232788066.py:15: FutureWarning: Passing literal html to 'read_html' is deprecated and will be removed in a future version. To read from a literal string, wrap it in a 'StringIO' object.\n",
      "  df = pd.read_html(str(table))[0]\n"
     ]
    },
    {
     "name": "stdout",
     "output_type": "stream",
     "text": [
      "Extracting from https://www.hyundainews.com/en-us/releases/3593\n",
      "Extracting from https://www.hyundainews.com/en-us/releases/3593\n",
      "Extracting from https://www.hyundainews.com/en-us/releases/3593\n"
     ]
    },
    {
     "name": "stderr",
     "output_type": "stream",
     "text": [
      "C:\\Users\\Hong-Bin\\AppData\\Local\\Temp\\ipykernel_9820\\3232788066.py:15: FutureWarning: Passing literal html to 'read_html' is deprecated and will be removed in a future version. To read from a literal string, wrap it in a 'StringIO' object.\n",
      "  df = pd.read_html(str(table))[0]\n",
      "C:\\Users\\Hong-Bin\\AppData\\Local\\Temp\\ipykernel_9820\\3232788066.py:15: FutureWarning: Passing literal html to 'read_html' is deprecated and will be removed in a future version. To read from a literal string, wrap it in a 'StringIO' object.\n",
      "  df = pd.read_html(str(table))[0]\n",
      "C:\\Users\\Hong-Bin\\AppData\\Local\\Temp\\ipykernel_9820\\3232788066.py:15: FutureWarning: Passing literal html to 'read_html' is deprecated and will be removed in a future version. To read from a literal string, wrap it in a 'StringIO' object.\n",
      "  df = pd.read_html(str(table))[0]\n",
      "C:\\Users\\Hong-Bin\\AppData\\Local\\Temp\\ipykernel_9820\\3232788066.py:15: FutureWarning: Passing literal html to 'read_html' is deprecated and will be removed in a future version. To read from a literal string, wrap it in a 'StringIO' object.\n",
      "  df = pd.read_html(str(table))[0]\n",
      "C:\\Users\\Hong-Bin\\AppData\\Local\\Temp\\ipykernel_9820\\3232788066.py:15: FutureWarning: Passing literal html to 'read_html' is deprecated and will be removed in a future version. To read from a literal string, wrap it in a 'StringIO' object.\n",
      "  df = pd.read_html(str(table))[0]\n",
      "C:\\Users\\Hong-Bin\\AppData\\Local\\Temp\\ipykernel_9820\\3232788066.py:15: FutureWarning: Passing literal html to 'read_html' is deprecated and will be removed in a future version. To read from a literal string, wrap it in a 'StringIO' object.\n",
      "  df = pd.read_html(str(table))[0]\n",
      "C:\\Users\\Hong-Bin\\AppData\\Local\\Temp\\ipykernel_9820\\3232788066.py:15: FutureWarning: Passing literal html to 'read_html' is deprecated and will be removed in a future version. To read from a literal string, wrap it in a 'StringIO' object.\n",
      "  df = pd.read_html(str(table))[0]\n"
     ]
    },
    {
     "name": "stdout",
     "output_type": "stream",
     "text": [
      "Extracting from https://www.hyundainews.com/en-us/releases/3575\n",
      "Extracting from https://www.hyundainews.com/en-us/releases/3575\n",
      "Extracting from https://www.hyundainews.com/en-us/releases/3575\n"
     ]
    },
    {
     "name": "stderr",
     "output_type": "stream",
     "text": [
      "C:\\Users\\Hong-Bin\\AppData\\Local\\Temp\\ipykernel_9820\\3232788066.py:15: FutureWarning: Passing literal html to 'read_html' is deprecated and will be removed in a future version. To read from a literal string, wrap it in a 'StringIO' object.\n",
      "  df = pd.read_html(str(table))[0]\n",
      "C:\\Users\\Hong-Bin\\AppData\\Local\\Temp\\ipykernel_9820\\3232788066.py:15: FutureWarning: Passing literal html to 'read_html' is deprecated and will be removed in a future version. To read from a literal string, wrap it in a 'StringIO' object.\n",
      "  df = pd.read_html(str(table))[0]\n",
      "C:\\Users\\Hong-Bin\\AppData\\Local\\Temp\\ipykernel_9820\\3232788066.py:15: FutureWarning: Passing literal html to 'read_html' is deprecated and will be removed in a future version. To read from a literal string, wrap it in a 'StringIO' object.\n",
      "  df = pd.read_html(str(table))[0]\n",
      "C:\\Users\\Hong-Bin\\AppData\\Local\\Temp\\ipykernel_9820\\3232788066.py:15: FutureWarning: Passing literal html to 'read_html' is deprecated and will be removed in a future version. To read from a literal string, wrap it in a 'StringIO' object.\n",
      "  df = pd.read_html(str(table))[0]\n",
      "C:\\Users\\Hong-Bin\\AppData\\Local\\Temp\\ipykernel_9820\\3232788066.py:15: FutureWarning: Passing literal html to 'read_html' is deprecated and will be removed in a future version. To read from a literal string, wrap it in a 'StringIO' object.\n",
      "  df = pd.read_html(str(table))[0]\n",
      "C:\\Users\\Hong-Bin\\AppData\\Local\\Temp\\ipykernel_9820\\3232788066.py:15: FutureWarning: Passing literal html to 'read_html' is deprecated and will be removed in a future version. To read from a literal string, wrap it in a 'StringIO' object.\n",
      "  df = pd.read_html(str(table))[0]\n",
      "C:\\Users\\Hong-Bin\\AppData\\Local\\Temp\\ipykernel_9820\\3232788066.py:15: FutureWarning: Passing literal html to 'read_html' is deprecated and will be removed in a future version. To read from a literal string, wrap it in a 'StringIO' object.\n",
      "  df = pd.read_html(str(table))[0]\n"
     ]
    },
    {
     "name": "stdout",
     "output_type": "stream",
     "text": [
      "Extracting from https://www.hyundainews.com/en-us/releases/3560\n",
      "Extracting from https://www.hyundainews.com/en-us/releases/3560\n",
      "Extracting from https://www.hyundainews.com/en-us/releases/3560\n",
      "Extracting from https://www.hyundainews.com/en-us/releases/3530\n"
     ]
    },
    {
     "name": "stderr",
     "output_type": "stream",
     "text": [
      "C:\\Users\\Hong-Bin\\AppData\\Local\\Temp\\ipykernel_9820\\3232788066.py:15: FutureWarning: Passing literal html to 'read_html' is deprecated and will be removed in a future version. To read from a literal string, wrap it in a 'StringIO' object.\n",
      "  df = pd.read_html(str(table))[0]\n",
      "C:\\Users\\Hong-Bin\\AppData\\Local\\Temp\\ipykernel_9820\\3232788066.py:15: FutureWarning: Passing literal html to 'read_html' is deprecated and will be removed in a future version. To read from a literal string, wrap it in a 'StringIO' object.\n",
      "  df = pd.read_html(str(table))[0]\n",
      "C:\\Users\\Hong-Bin\\AppData\\Local\\Temp\\ipykernel_9820\\3232788066.py:15: FutureWarning: Passing literal html to 'read_html' is deprecated and will be removed in a future version. To read from a literal string, wrap it in a 'StringIO' object.\n",
      "  df = pd.read_html(str(table))[0]\n",
      "C:\\Users\\Hong-Bin\\AppData\\Local\\Temp\\ipykernel_9820\\3232788066.py:15: FutureWarning: Passing literal html to 'read_html' is deprecated and will be removed in a future version. To read from a literal string, wrap it in a 'StringIO' object.\n",
      "  df = pd.read_html(str(table))[0]\n",
      "C:\\Users\\Hong-Bin\\AppData\\Local\\Temp\\ipykernel_9820\\3232788066.py:15: FutureWarning: Passing literal html to 'read_html' is deprecated and will be removed in a future version. To read from a literal string, wrap it in a 'StringIO' object.\n",
      "  df = pd.read_html(str(table))[0]\n",
      "C:\\Users\\Hong-Bin\\AppData\\Local\\Temp\\ipykernel_9820\\3232788066.py:15: FutureWarning: Passing literal html to 'read_html' is deprecated and will be removed in a future version. To read from a literal string, wrap it in a 'StringIO' object.\n",
      "  df = pd.read_html(str(table))[0]\n"
     ]
    },
    {
     "name": "stdout",
     "output_type": "stream",
     "text": [
      "Extracting from https://www.hyundainews.com/en-us/releases/3530\n",
      "Extracting from https://www.hyundainews.com/en-us/releases/3530\n",
      "Extracting from https://www.hyundainews.com/en-us/releases/3516\n"
     ]
    },
    {
     "name": "stderr",
     "output_type": "stream",
     "text": [
      "C:\\Users\\Hong-Bin\\AppData\\Local\\Temp\\ipykernel_9820\\3232788066.py:15: FutureWarning: Passing literal html to 'read_html' is deprecated and will be removed in a future version. To read from a literal string, wrap it in a 'StringIO' object.\n",
      "  df = pd.read_html(str(table))[0]\n",
      "C:\\Users\\Hong-Bin\\AppData\\Local\\Temp\\ipykernel_9820\\3232788066.py:15: FutureWarning: Passing literal html to 'read_html' is deprecated and will be removed in a future version. To read from a literal string, wrap it in a 'StringIO' object.\n",
      "  df = pd.read_html(str(table))[0]\n",
      "C:\\Users\\Hong-Bin\\AppData\\Local\\Temp\\ipykernel_9820\\3232788066.py:15: FutureWarning: Passing literal html to 'read_html' is deprecated and will be removed in a future version. To read from a literal string, wrap it in a 'StringIO' object.\n",
      "  df = pd.read_html(str(table))[0]\n",
      "C:\\Users\\Hong-Bin\\AppData\\Local\\Temp\\ipykernel_9820\\3232788066.py:15: FutureWarning: Passing literal html to 'read_html' is deprecated and will be removed in a future version. To read from a literal string, wrap it in a 'StringIO' object.\n",
      "  df = pd.read_html(str(table))[0]\n",
      "C:\\Users\\Hong-Bin\\AppData\\Local\\Temp\\ipykernel_9820\\3232788066.py:15: FutureWarning: Passing literal html to 'read_html' is deprecated and will be removed in a future version. To read from a literal string, wrap it in a 'StringIO' object.\n",
      "  df = pd.read_html(str(table))[0]\n",
      "C:\\Users\\Hong-Bin\\AppData\\Local\\Temp\\ipykernel_9820\\3232788066.py:15: FutureWarning: Passing literal html to 'read_html' is deprecated and will be removed in a future version. To read from a literal string, wrap it in a 'StringIO' object.\n",
      "  df = pd.read_html(str(table))[0]\n",
      "C:\\Users\\Hong-Bin\\AppData\\Local\\Temp\\ipykernel_9820\\3232788066.py:15: FutureWarning: Passing literal html to 'read_html' is deprecated and will be removed in a future version. To read from a literal string, wrap it in a 'StringIO' object.\n",
      "  df = pd.read_html(str(table))[0]\n",
      "C:\\Users\\Hong-Bin\\AppData\\Local\\Temp\\ipykernel_9820\\3232788066.py:15: FutureWarning: Passing literal html to 'read_html' is deprecated and will be removed in a future version. To read from a literal string, wrap it in a 'StringIO' object.\n",
      "  df = pd.read_html(str(table))[0]\n"
     ]
    },
    {
     "name": "stdout",
     "output_type": "stream",
     "text": [
      "Extracting from https://www.hyundainews.com/en-us/releases/3516\n",
      "Extracting from https://www.hyundainews.com/en-us/releases/3516\n",
      "Extracting from https://www.hyundainews.com/en-us/releases/3497\n",
      "Extracting from https://www.hyundainews.com/en-us/releases/3497\n"
     ]
    },
    {
     "name": "stderr",
     "output_type": "stream",
     "text": [
      "C:\\Users\\Hong-Bin\\AppData\\Local\\Temp\\ipykernel_9820\\3232788066.py:15: FutureWarning: Passing literal html to 'read_html' is deprecated and will be removed in a future version. To read from a literal string, wrap it in a 'StringIO' object.\n",
      "  df = pd.read_html(str(table))[0]\n",
      "C:\\Users\\Hong-Bin\\AppData\\Local\\Temp\\ipykernel_9820\\3232788066.py:15: FutureWarning: Passing literal html to 'read_html' is deprecated and will be removed in a future version. To read from a literal string, wrap it in a 'StringIO' object.\n",
      "  df = pd.read_html(str(table))[0]\n",
      "C:\\Users\\Hong-Bin\\AppData\\Local\\Temp\\ipykernel_9820\\3232788066.py:15: FutureWarning: Passing literal html to 'read_html' is deprecated and will be removed in a future version. To read from a literal string, wrap it in a 'StringIO' object.\n",
      "  df = pd.read_html(str(table))[0]\n",
      "C:\\Users\\Hong-Bin\\AppData\\Local\\Temp\\ipykernel_9820\\3232788066.py:15: FutureWarning: Passing literal html to 'read_html' is deprecated and will be removed in a future version. To read from a literal string, wrap it in a 'StringIO' object.\n",
      "  df = pd.read_html(str(table))[0]\n",
      "C:\\Users\\Hong-Bin\\AppData\\Local\\Temp\\ipykernel_9820\\3232788066.py:15: FutureWarning: Passing literal html to 'read_html' is deprecated and will be removed in a future version. To read from a literal string, wrap it in a 'StringIO' object.\n",
      "  df = pd.read_html(str(table))[0]\n",
      "C:\\Users\\Hong-Bin\\AppData\\Local\\Temp\\ipykernel_9820\\3232788066.py:15: FutureWarning: Passing literal html to 'read_html' is deprecated and will be removed in a future version. To read from a literal string, wrap it in a 'StringIO' object.\n",
      "  df = pd.read_html(str(table))[0]\n",
      "C:\\Users\\Hong-Bin\\AppData\\Local\\Temp\\ipykernel_9820\\3232788066.py:15: FutureWarning: Passing literal html to 'read_html' is deprecated and will be removed in a future version. To read from a literal string, wrap it in a 'StringIO' object.\n",
      "  df = pd.read_html(str(table))[0]\n",
      "C:\\Users\\Hong-Bin\\AppData\\Local\\Temp\\ipykernel_9820\\3232788066.py:15: FutureWarning: Passing literal html to 'read_html' is deprecated and will be removed in a future version. To read from a literal string, wrap it in a 'StringIO' object.\n",
      "  df = pd.read_html(str(table))[0]\n"
     ]
    },
    {
     "name": "stdout",
     "output_type": "stream",
     "text": [
      "Extracting from https://www.hyundainews.com/en-us/releases/3497\n",
      "Extracting from https://www.hyundainews.com/en-us/releases/3475\n",
      "Extracting from https://www.hyundainews.com/en-us/releases/3475\n",
      "Extracting from https://www.hyundainews.com/en-us/releases/3475\n"
     ]
    },
    {
     "name": "stderr",
     "output_type": "stream",
     "text": [
      "C:\\Users\\Hong-Bin\\AppData\\Local\\Temp\\ipykernel_9820\\3232788066.py:15: FutureWarning: Passing literal html to 'read_html' is deprecated and will be removed in a future version. To read from a literal string, wrap it in a 'StringIO' object.\n",
      "  df = pd.read_html(str(table))[0]\n",
      "C:\\Users\\Hong-Bin\\AppData\\Local\\Temp\\ipykernel_9820\\3232788066.py:15: FutureWarning: Passing literal html to 'read_html' is deprecated and will be removed in a future version. To read from a literal string, wrap it in a 'StringIO' object.\n",
      "  df = pd.read_html(str(table))[0]\n",
      "C:\\Users\\Hong-Bin\\AppData\\Local\\Temp\\ipykernel_9820\\3232788066.py:15: FutureWarning: Passing literal html to 'read_html' is deprecated and will be removed in a future version. To read from a literal string, wrap it in a 'StringIO' object.\n",
      "  df = pd.read_html(str(table))[0]\n",
      "C:\\Users\\Hong-Bin\\AppData\\Local\\Temp\\ipykernel_9820\\3232788066.py:15: FutureWarning: Passing literal html to 'read_html' is deprecated and will be removed in a future version. To read from a literal string, wrap it in a 'StringIO' object.\n",
      "  df = pd.read_html(str(table))[0]\n",
      "C:\\Users\\Hong-Bin\\AppData\\Local\\Temp\\ipykernel_9820\\3232788066.py:15: FutureWarning: Passing literal html to 'read_html' is deprecated and will be removed in a future version. To read from a literal string, wrap it in a 'StringIO' object.\n",
      "  df = pd.read_html(str(table))[0]\n",
      "C:\\Users\\Hong-Bin\\AppData\\Local\\Temp\\ipykernel_9820\\3232788066.py:15: FutureWarning: Passing literal html to 'read_html' is deprecated and will be removed in a future version. To read from a literal string, wrap it in a 'StringIO' object.\n",
      "  df = pd.read_html(str(table))[0]\n"
     ]
    },
    {
     "name": "stdout",
     "output_type": "stream",
     "text": [
      "Extracting from https://www.hyundainews.com/en-us/releases/4414\n",
      "Extracting from https://www.hyundainews.com/en-us/releases/4414\n",
      "Extracting from https://www.hyundainews.com/en-us/releases/4383\n"
     ]
    },
    {
     "name": "stderr",
     "output_type": "stream",
     "text": [
      "C:\\Users\\Hong-Bin\\AppData\\Local\\Temp\\ipykernel_9820\\3232788066.py:15: FutureWarning: Passing literal html to 'read_html' is deprecated and will be removed in a future version. To read from a literal string, wrap it in a 'StringIO' object.\n",
      "  df = pd.read_html(str(table))[0]\n",
      "C:\\Users\\Hong-Bin\\AppData\\Local\\Temp\\ipykernel_9820\\3232788066.py:15: FutureWarning: Passing literal html to 'read_html' is deprecated and will be removed in a future version. To read from a literal string, wrap it in a 'StringIO' object.\n",
      "  df = pd.read_html(str(table))[0]\n",
      "C:\\Users\\Hong-Bin\\AppData\\Local\\Temp\\ipykernel_9820\\3232788066.py:15: FutureWarning: Passing literal html to 'read_html' is deprecated and will be removed in a future version. To read from a literal string, wrap it in a 'StringIO' object.\n",
      "  df = pd.read_html(str(table))[0]\n",
      "C:\\Users\\Hong-Bin\\AppData\\Local\\Temp\\ipykernel_9820\\3232788066.py:15: FutureWarning: Passing literal html to 'read_html' is deprecated and will be removed in a future version. To read from a literal string, wrap it in a 'StringIO' object.\n",
      "  df = pd.read_html(str(table))[0]\n",
      "C:\\Users\\Hong-Bin\\AppData\\Local\\Temp\\ipykernel_9820\\3232788066.py:15: FutureWarning: Passing literal html to 'read_html' is deprecated and will be removed in a future version. To read from a literal string, wrap it in a 'StringIO' object.\n",
      "  df = pd.read_html(str(table))[0]\n",
      "C:\\Users\\Hong-Bin\\AppData\\Local\\Temp\\ipykernel_9820\\3232788066.py:15: FutureWarning: Passing literal html to 'read_html' is deprecated and will be removed in a future version. To read from a literal string, wrap it in a 'StringIO' object.\n",
      "  df = pd.read_html(str(table))[0]\n",
      "C:\\Users\\Hong-Bin\\AppData\\Local\\Temp\\ipykernel_9820\\3232788066.py:15: FutureWarning: Passing literal html to 'read_html' is deprecated and will be removed in a future version. To read from a literal string, wrap it in a 'StringIO' object.\n",
      "  df = pd.read_html(str(table))[0]\n",
      "C:\\Users\\Hong-Bin\\AppData\\Local\\Temp\\ipykernel_9820\\3232788066.py:15: FutureWarning: Passing literal html to 'read_html' is deprecated and will be removed in a future version. To read from a literal string, wrap it in a 'StringIO' object.\n",
      "  df = pd.read_html(str(table))[0]\n"
     ]
    },
    {
     "name": "stdout",
     "output_type": "stream",
     "text": [
      "Extracting from https://www.hyundainews.com/en-us/releases/4383\n",
      "Extracting from https://www.hyundainews.com/en-us/releases/4362\n",
      "Extracting from https://www.hyundainews.com/en-us/releases/4362\n",
      "Extracting from https://www.hyundainews.com/en-us/releases/4342\n"
     ]
    },
    {
     "name": "stderr",
     "output_type": "stream",
     "text": [
      "C:\\Users\\Hong-Bin\\AppData\\Local\\Temp\\ipykernel_9820\\3232788066.py:15: FutureWarning: Passing literal html to 'read_html' is deprecated and will be removed in a future version. To read from a literal string, wrap it in a 'StringIO' object.\n",
      "  df = pd.read_html(str(table))[0]\n",
      "C:\\Users\\Hong-Bin\\AppData\\Local\\Temp\\ipykernel_9820\\3232788066.py:15: FutureWarning: Passing literal html to 'read_html' is deprecated and will be removed in a future version. To read from a literal string, wrap it in a 'StringIO' object.\n",
      "  df = pd.read_html(str(table))[0]\n",
      "C:\\Users\\Hong-Bin\\AppData\\Local\\Temp\\ipykernel_9820\\3232788066.py:15: FutureWarning: Passing literal html to 'read_html' is deprecated and will be removed in a future version. To read from a literal string, wrap it in a 'StringIO' object.\n",
      "  df = pd.read_html(str(table))[0]\n",
      "C:\\Users\\Hong-Bin\\AppData\\Local\\Temp\\ipykernel_9820\\3232788066.py:15: FutureWarning: Passing literal html to 'read_html' is deprecated and will be removed in a future version. To read from a literal string, wrap it in a 'StringIO' object.\n",
      "  df = pd.read_html(str(table))[0]\n",
      "C:\\Users\\Hong-Bin\\AppData\\Local\\Temp\\ipykernel_9820\\3232788066.py:15: FutureWarning: Passing literal html to 'read_html' is deprecated and will be removed in a future version. To read from a literal string, wrap it in a 'StringIO' object.\n",
      "  df = pd.read_html(str(table))[0]\n",
      "C:\\Users\\Hong-Bin\\AppData\\Local\\Temp\\ipykernel_9820\\3232788066.py:15: FutureWarning: Passing literal html to 'read_html' is deprecated and will be removed in a future version. To read from a literal string, wrap it in a 'StringIO' object.\n",
      "  df = pd.read_html(str(table))[0]\n",
      "C:\\Users\\Hong-Bin\\AppData\\Local\\Temp\\ipykernel_9820\\3232788066.py:15: FutureWarning: Passing literal html to 'read_html' is deprecated and will be removed in a future version. To read from a literal string, wrap it in a 'StringIO' object.\n",
      "  df = pd.read_html(str(table))[0]\n",
      "C:\\Users\\Hong-Bin\\AppData\\Local\\Temp\\ipykernel_9820\\3232788066.py:15: FutureWarning: Passing literal html to 'read_html' is deprecated and will be removed in a future version. To read from a literal string, wrap it in a 'StringIO' object.\n",
      "  df = pd.read_html(str(table))[0]\n"
     ]
    },
    {
     "name": "stdout",
     "output_type": "stream",
     "text": [
      "Extracting from https://www.hyundainews.com/en-us/releases/4342\n",
      "Extracting from https://www.hyundainews.com/en-us/releases/4322\n",
      "Extracting from https://www.hyundainews.com/en-us/releases/4322\n",
      "Extracting from https://www.hyundainews.com/en-us/releases/4285\n"
     ]
    },
    {
     "name": "stderr",
     "output_type": "stream",
     "text": [
      "C:\\Users\\Hong-Bin\\AppData\\Local\\Temp\\ipykernel_9820\\3232788066.py:15: FutureWarning: Passing literal html to 'read_html' is deprecated and will be removed in a future version. To read from a literal string, wrap it in a 'StringIO' object.\n",
      "  df = pd.read_html(str(table))[0]\n",
      "C:\\Users\\Hong-Bin\\AppData\\Local\\Temp\\ipykernel_9820\\3232788066.py:15: FutureWarning: Passing literal html to 'read_html' is deprecated and will be removed in a future version. To read from a literal string, wrap it in a 'StringIO' object.\n",
      "  df = pd.read_html(str(table))[0]\n",
      "C:\\Users\\Hong-Bin\\AppData\\Local\\Temp\\ipykernel_9820\\3232788066.py:15: FutureWarning: Passing literal html to 'read_html' is deprecated and will be removed in a future version. To read from a literal string, wrap it in a 'StringIO' object.\n",
      "  df = pd.read_html(str(table))[0]\n",
      "C:\\Users\\Hong-Bin\\AppData\\Local\\Temp\\ipykernel_9820\\3232788066.py:15: FutureWarning: Passing literal html to 'read_html' is deprecated and will be removed in a future version. To read from a literal string, wrap it in a 'StringIO' object.\n",
      "  df = pd.read_html(str(table))[0]\n",
      "C:\\Users\\Hong-Bin\\AppData\\Local\\Temp\\ipykernel_9820\\3232788066.py:15: FutureWarning: Passing literal html to 'read_html' is deprecated and will be removed in a future version. To read from a literal string, wrap it in a 'StringIO' object.\n",
      "  df = pd.read_html(str(table))[0]\n",
      "C:\\Users\\Hong-Bin\\AppData\\Local\\Temp\\ipykernel_9820\\3232788066.py:15: FutureWarning: Passing literal html to 'read_html' is deprecated and will be removed in a future version. To read from a literal string, wrap it in a 'StringIO' object.\n",
      "  df = pd.read_html(str(table))[0]\n",
      "C:\\Users\\Hong-Bin\\AppData\\Local\\Temp\\ipykernel_9820\\3232788066.py:15: FutureWarning: Passing literal html to 'read_html' is deprecated and will be removed in a future version. To read from a literal string, wrap it in a 'StringIO' object.\n",
      "  df = pd.read_html(str(table))[0]\n",
      "C:\\Users\\Hong-Bin\\AppData\\Local\\Temp\\ipykernel_9820\\3232788066.py:15: FutureWarning: Passing literal html to 'read_html' is deprecated and will be removed in a future version. To read from a literal string, wrap it in a 'StringIO' object.\n",
      "  df = pd.read_html(str(table))[0]\n"
     ]
    },
    {
     "name": "stdout",
     "output_type": "stream",
     "text": [
      "Extracting from https://www.hyundainews.com/en-us/releases/4285\n",
      "Extracting from https://www.hyundainews.com/en-us/releases/4258\n",
      "Extracting from https://www.hyundainews.com/en-us/releases/4258\n",
      "Extracting from https://www.hyundainews.com/en-us/releases/4236\n"
     ]
    },
    {
     "name": "stderr",
     "output_type": "stream",
     "text": [
      "C:\\Users\\Hong-Bin\\AppData\\Local\\Temp\\ipykernel_9820\\3232788066.py:15: FutureWarning: Passing literal html to 'read_html' is deprecated and will be removed in a future version. To read from a literal string, wrap it in a 'StringIO' object.\n",
      "  df = pd.read_html(str(table))[0]\n",
      "C:\\Users\\Hong-Bin\\AppData\\Local\\Temp\\ipykernel_9820\\3232788066.py:15: FutureWarning: Passing literal html to 'read_html' is deprecated and will be removed in a future version. To read from a literal string, wrap it in a 'StringIO' object.\n",
      "  df = pd.read_html(str(table))[0]\n",
      "C:\\Users\\Hong-Bin\\AppData\\Local\\Temp\\ipykernel_9820\\3232788066.py:15: FutureWarning: Passing literal html to 'read_html' is deprecated and will be removed in a future version. To read from a literal string, wrap it in a 'StringIO' object.\n",
      "  df = pd.read_html(str(table))[0]\n",
      "C:\\Users\\Hong-Bin\\AppData\\Local\\Temp\\ipykernel_9820\\3232788066.py:15: FutureWarning: Passing literal html to 'read_html' is deprecated and will be removed in a future version. To read from a literal string, wrap it in a 'StringIO' object.\n",
      "  df = pd.read_html(str(table))[0]\n",
      "C:\\Users\\Hong-Bin\\AppData\\Local\\Temp\\ipykernel_9820\\3232788066.py:15: FutureWarning: Passing literal html to 'read_html' is deprecated and will be removed in a future version. To read from a literal string, wrap it in a 'StringIO' object.\n",
      "  df = pd.read_html(str(table))[0]\n",
      "C:\\Users\\Hong-Bin\\AppData\\Local\\Temp\\ipykernel_9820\\3232788066.py:15: FutureWarning: Passing literal html to 'read_html' is deprecated and will be removed in a future version. To read from a literal string, wrap it in a 'StringIO' object.\n",
      "  df = pd.read_html(str(table))[0]\n",
      "C:\\Users\\Hong-Bin\\AppData\\Local\\Temp\\ipykernel_9820\\3232788066.py:15: FutureWarning: Passing literal html to 'read_html' is deprecated and will be removed in a future version. To read from a literal string, wrap it in a 'StringIO' object.\n",
      "  df = pd.read_html(str(table))[0]\n",
      "C:\\Users\\Hong-Bin\\AppData\\Local\\Temp\\ipykernel_9820\\3232788066.py:15: FutureWarning: Passing literal html to 'read_html' is deprecated and will be removed in a future version. To read from a literal string, wrap it in a 'StringIO' object.\n",
      "  df = pd.read_html(str(table))[0]\n"
     ]
    },
    {
     "name": "stdout",
     "output_type": "stream",
     "text": [
      "Extracting from https://www.hyundainews.com/en-us/releases/4236\n",
      "Extracting from https://www.hyundainews.com/en-us/releases/4210\n",
      "Extracting from https://www.hyundainews.com/en-us/releases/4210\n",
      "Extracting from https://www.hyundainews.com/en-us/releases/4184\n"
     ]
    },
    {
     "name": "stderr",
     "output_type": "stream",
     "text": [
      "C:\\Users\\Hong-Bin\\AppData\\Local\\Temp\\ipykernel_9820\\3232788066.py:15: FutureWarning: Passing literal html to 'read_html' is deprecated and will be removed in a future version. To read from a literal string, wrap it in a 'StringIO' object.\n",
      "  df = pd.read_html(str(table))[0]\n",
      "C:\\Users\\Hong-Bin\\AppData\\Local\\Temp\\ipykernel_9820\\3232788066.py:15: FutureWarning: Passing literal html to 'read_html' is deprecated and will be removed in a future version. To read from a literal string, wrap it in a 'StringIO' object.\n",
      "  df = pd.read_html(str(table))[0]\n",
      "C:\\Users\\Hong-Bin\\AppData\\Local\\Temp\\ipykernel_9820\\3232788066.py:15: FutureWarning: Passing literal html to 'read_html' is deprecated and will be removed in a future version. To read from a literal string, wrap it in a 'StringIO' object.\n",
      "  df = pd.read_html(str(table))[0]\n",
      "C:\\Users\\Hong-Bin\\AppData\\Local\\Temp\\ipykernel_9820\\3232788066.py:15: FutureWarning: Passing literal html to 'read_html' is deprecated and will be removed in a future version. To read from a literal string, wrap it in a 'StringIO' object.\n",
      "  df = pd.read_html(str(table))[0]\n",
      "C:\\Users\\Hong-Bin\\AppData\\Local\\Temp\\ipykernel_9820\\3232788066.py:15: FutureWarning: Passing literal html to 'read_html' is deprecated and will be removed in a future version. To read from a literal string, wrap it in a 'StringIO' object.\n",
      "  df = pd.read_html(str(table))[0]\n",
      "C:\\Users\\Hong-Bin\\AppData\\Local\\Temp\\ipykernel_9820\\3232788066.py:15: FutureWarning: Passing literal html to 'read_html' is deprecated and will be removed in a future version. To read from a literal string, wrap it in a 'StringIO' object.\n",
      "  df = pd.read_html(str(table))[0]\n"
     ]
    },
    {
     "name": "stdout",
     "output_type": "stream",
     "text": [
      "Extracting from https://www.hyundainews.com/en-us/releases/4184\n",
      "Extracting from https://www.hyundainews.com/en-us/releases/4155\n",
      "Extracting from https://www.hyundainews.com/en-us/releases/4155\n"
     ]
    },
    {
     "name": "stderr",
     "output_type": "stream",
     "text": [
      "C:\\Users\\Hong-Bin\\AppData\\Local\\Temp\\ipykernel_9820\\3232788066.py:15: FutureWarning: Passing literal html to 'read_html' is deprecated and will be removed in a future version. To read from a literal string, wrap it in a 'StringIO' object.\n",
      "  df = pd.read_html(str(table))[0]\n",
      "C:\\Users\\Hong-Bin\\AppData\\Local\\Temp\\ipykernel_9820\\3232788066.py:15: FutureWarning: Passing literal html to 'read_html' is deprecated and will be removed in a future version. To read from a literal string, wrap it in a 'StringIO' object.\n",
      "  df = pd.read_html(str(table))[0]\n",
      "C:\\Users\\Hong-Bin\\AppData\\Local\\Temp\\ipykernel_9820\\3232788066.py:15: FutureWarning: Passing literal html to 'read_html' is deprecated and will be removed in a future version. To read from a literal string, wrap it in a 'StringIO' object.\n",
      "  df = pd.read_html(str(table))[0]\n",
      "C:\\Users\\Hong-Bin\\AppData\\Local\\Temp\\ipykernel_9820\\3232788066.py:15: FutureWarning: Passing literal html to 'read_html' is deprecated and will be removed in a future version. To read from a literal string, wrap it in a 'StringIO' object.\n",
      "  df = pd.read_html(str(table))[0]\n",
      "C:\\Users\\Hong-Bin\\AppData\\Local\\Temp\\ipykernel_9820\\3232788066.py:15: FutureWarning: Passing literal html to 'read_html' is deprecated and will be removed in a future version. To read from a literal string, wrap it in a 'StringIO' object.\n",
      "  df = pd.read_html(str(table))[0]\n",
      "C:\\Users\\Hong-Bin\\AppData\\Local\\Temp\\ipykernel_9820\\3232788066.py:15: FutureWarning: Passing literal html to 'read_html' is deprecated and will be removed in a future version. To read from a literal string, wrap it in a 'StringIO' object.\n",
      "  df = pd.read_html(str(table))[0]\n",
      "C:\\Users\\Hong-Bin\\AppData\\Local\\Temp\\ipykernel_9820\\3232788066.py:15: FutureWarning: Passing literal html to 'read_html' is deprecated and will be removed in a future version. To read from a literal string, wrap it in a 'StringIO' object.\n",
      "  df = pd.read_html(str(table))[0]\n",
      "C:\\Users\\Hong-Bin\\AppData\\Local\\Temp\\ipykernel_9820\\3232788066.py:15: FutureWarning: Passing literal html to 'read_html' is deprecated and will be removed in a future version. To read from a literal string, wrap it in a 'StringIO' object.\n",
      "  df = pd.read_html(str(table))[0]\n"
     ]
    },
    {
     "name": "stdout",
     "output_type": "stream",
     "text": [
      "Extracting from https://www.hyundainews.com/en-us/releases/4134\n",
      "Extracting from https://www.hyundainews.com/en-us/releases/4134\n",
      "Extracting from https://www.hyundainews.com/en-us/releases/4116\n",
      "Extracting from https://www.hyundainews.com/en-us/releases/4116\n"
     ]
    },
    {
     "name": "stderr",
     "output_type": "stream",
     "text": [
      "C:\\Users\\Hong-Bin\\AppData\\Local\\Temp\\ipykernel_9820\\3232788066.py:15: FutureWarning: Passing literal html to 'read_html' is deprecated and will be removed in a future version. To read from a literal string, wrap it in a 'StringIO' object.\n",
      "  df = pd.read_html(str(table))[0]\n",
      "C:\\Users\\Hong-Bin\\AppData\\Local\\Temp\\ipykernel_9820\\3232788066.py:15: FutureWarning: Passing literal html to 'read_html' is deprecated and will be removed in a future version. To read from a literal string, wrap it in a 'StringIO' object.\n",
      "  df = pd.read_html(str(table))[0]\n",
      "C:\\Users\\Hong-Bin\\AppData\\Local\\Temp\\ipykernel_9820\\3232788066.py:15: FutureWarning: Passing literal html to 'read_html' is deprecated and will be removed in a future version. To read from a literal string, wrap it in a 'StringIO' object.\n",
      "  df = pd.read_html(str(table))[0]\n",
      "C:\\Users\\Hong-Bin\\AppData\\Local\\Temp\\ipykernel_9820\\3232788066.py:15: FutureWarning: Passing literal html to 'read_html' is deprecated and will be removed in a future version. To read from a literal string, wrap it in a 'StringIO' object.\n",
      "  df = pd.read_html(str(table))[0]\n",
      "C:\\Users\\Hong-Bin\\AppData\\Local\\Temp\\ipykernel_9820\\3232788066.py:15: FutureWarning: Passing literal html to 'read_html' is deprecated and will be removed in a future version. To read from a literal string, wrap it in a 'StringIO' object.\n",
      "  df = pd.read_html(str(table))[0]\n",
      "C:\\Users\\Hong-Bin\\AppData\\Local\\Temp\\ipykernel_9820\\3232788066.py:15: FutureWarning: Passing literal html to 'read_html' is deprecated and will be removed in a future version. To read from a literal string, wrap it in a 'StringIO' object.\n",
      "  df = pd.read_html(str(table))[0]\n",
      "C:\\Users\\Hong-Bin\\AppData\\Local\\Temp\\ipykernel_9820\\3232788066.py:15: FutureWarning: Passing literal html to 'read_html' is deprecated and will be removed in a future version. To read from a literal string, wrap it in a 'StringIO' object.\n",
      "  df = pd.read_html(str(table))[0]\n",
      "C:\\Users\\Hong-Bin\\AppData\\Local\\Temp\\ipykernel_9820\\3232788066.py:15: FutureWarning: Passing literal html to 'read_html' is deprecated and will be removed in a future version. To read from a literal string, wrap it in a 'StringIO' object.\n",
      "  df = pd.read_html(str(table))[0]\n"
     ]
    },
    {
     "name": "stdout",
     "output_type": "stream",
     "text": [
      "Extracting from https://www.hyundainews.com/en-us/releases/4086\n",
      "Extracting from https://www.hyundainews.com/en-us/releases/4086\n",
      "Extracting from https://www.hyundainews.com/en-us/releases/4067\n",
      "Extracting from https://www.hyundainews.com/en-us/releases/4067\n"
     ]
    },
    {
     "name": "stderr",
     "output_type": "stream",
     "text": [
      "C:\\Users\\Hong-Bin\\AppData\\Local\\Temp\\ipykernel_9820\\3232788066.py:15: FutureWarning: Passing literal html to 'read_html' is deprecated and will be removed in a future version. To read from a literal string, wrap it in a 'StringIO' object.\n",
      "  df = pd.read_html(str(table))[0]\n",
      "C:\\Users\\Hong-Bin\\AppData\\Local\\Temp\\ipykernel_9820\\3232788066.py:15: FutureWarning: Passing literal html to 'read_html' is deprecated and will be removed in a future version. To read from a literal string, wrap it in a 'StringIO' object.\n",
      "  df = pd.read_html(str(table))[0]\n",
      "C:\\Users\\Hong-Bin\\AppData\\Local\\Temp\\ipykernel_9820\\3232788066.py:15: FutureWarning: Passing literal html to 'read_html' is deprecated and will be removed in a future version. To read from a literal string, wrap it in a 'StringIO' object.\n",
      "  df = pd.read_html(str(table))[0]\n",
      "C:\\Users\\Hong-Bin\\AppData\\Local\\Temp\\ipykernel_9820\\3232788066.py:15: FutureWarning: Passing literal html to 'read_html' is deprecated and will be removed in a future version. To read from a literal string, wrap it in a 'StringIO' object.\n",
      "  df = pd.read_html(str(table))[0]\n"
     ]
    },
    {
     "name": "stdout",
     "output_type": "stream",
     "text": [
      "Extracting from https://www.hyundainews.com/en-us/releases/4037\n",
      "Extracting from https://www.hyundainews.com/en-us/releases/4037\n"
     ]
    },
    {
     "name": "stderr",
     "output_type": "stream",
     "text": [
      "C:\\Users\\Hong-Bin\\AppData\\Local\\Temp\\ipykernel_9820\\3232788066.py:15: FutureWarning: Passing literal html to 'read_html' is deprecated and will be removed in a future version. To read from a literal string, wrap it in a 'StringIO' object.\n",
      "  df = pd.read_html(str(table))[0]\n",
      "C:\\Users\\Hong-Bin\\AppData\\Local\\Temp\\ipykernel_9820\\3232788066.py:15: FutureWarning: Passing literal html to 'read_html' is deprecated and will be removed in a future version. To read from a literal string, wrap it in a 'StringIO' object.\n",
      "  df = pd.read_html(str(table))[0]\n",
      "C:\\Users\\Hong-Bin\\AppData\\Local\\Temp\\ipykernel_9820\\3232788066.py:15: FutureWarning: Passing literal html to 'read_html' is deprecated and will be removed in a future version. To read from a literal string, wrap it in a 'StringIO' object.\n",
      "  df = pd.read_html(str(table))[0]\n",
      "C:\\Users\\Hong-Bin\\AppData\\Local\\Temp\\ipykernel_9820\\3232788066.py:15: FutureWarning: Passing literal html to 'read_html' is deprecated and will be removed in a future version. To read from a literal string, wrap it in a 'StringIO' object.\n",
      "  df = pd.read_html(str(table))[0]\n",
      "C:\\Users\\Hong-Bin\\AppData\\Local\\Temp\\ipykernel_9820\\3232788066.py:15: FutureWarning: Passing literal html to 'read_html' is deprecated and will be removed in a future version. To read from a literal string, wrap it in a 'StringIO' object.\n",
      "  df = pd.read_html(str(table))[0]\n",
      "C:\\Users\\Hong-Bin\\AppData\\Local\\Temp\\ipykernel_9820\\3232788066.py:15: FutureWarning: Passing literal html to 'read_html' is deprecated and will be removed in a future version. To read from a literal string, wrap it in a 'StringIO' object.\n",
      "  df = pd.read_html(str(table))[0]\n",
      "C:\\Users\\Hong-Bin\\AppData\\Local\\Temp\\ipykernel_9820\\3232788066.py:15: FutureWarning: Passing literal html to 'read_html' is deprecated and will be removed in a future version. To read from a literal string, wrap it in a 'StringIO' object.\n",
      "  df = pd.read_html(str(table))[0]\n",
      "C:\\Users\\Hong-Bin\\AppData\\Local\\Temp\\ipykernel_9820\\3232788066.py:15: FutureWarning: Passing literal html to 'read_html' is deprecated and will be removed in a future version. To read from a literal string, wrap it in a 'StringIO' object.\n",
      "  df = pd.read_html(str(table))[0]\n"
     ]
    },
    {
     "name": "stdout",
     "output_type": "stream",
     "text": [
      "Extracting from https://www.hyundainews.com/en-us/releases/4012\n",
      "Extracting from https://www.hyundainews.com/en-us/releases/4012\n",
      "Extracting from https://www.hyundainews.com/en-us/releases/3980\n",
      "Extracting from https://www.hyundainews.com/en-us/releases/3980\n"
     ]
    },
    {
     "name": "stderr",
     "output_type": "stream",
     "text": [
      "C:\\Users\\Hong-Bin\\AppData\\Local\\Temp\\ipykernel_9820\\3232788066.py:15: FutureWarning: Passing literal html to 'read_html' is deprecated and will be removed in a future version. To read from a literal string, wrap it in a 'StringIO' object.\n",
      "  df = pd.read_html(str(table))[0]\n",
      "C:\\Users\\Hong-Bin\\AppData\\Local\\Temp\\ipykernel_9820\\3232788066.py:15: FutureWarning: Passing literal html to 'read_html' is deprecated and will be removed in a future version. To read from a literal string, wrap it in a 'StringIO' object.\n",
      "  df = pd.read_html(str(table))[0]\n",
      "C:\\Users\\Hong-Bin\\AppData\\Local\\Temp\\ipykernel_9820\\3232788066.py:15: FutureWarning: Passing literal html to 'read_html' is deprecated and will be removed in a future version. To read from a literal string, wrap it in a 'StringIO' object.\n",
      "  df = pd.read_html(str(table))[0]\n",
      "C:\\Users\\Hong-Bin\\AppData\\Local\\Temp\\ipykernel_9820\\3232788066.py:15: FutureWarning: Passing literal html to 'read_html' is deprecated and will be removed in a future version. To read from a literal string, wrap it in a 'StringIO' object.\n",
      "  df = pd.read_html(str(table))[0]\n",
      "C:\\Users\\Hong-Bin\\AppData\\Local\\Temp\\ipykernel_9820\\3232788066.py:15: FutureWarning: Passing literal html to 'read_html' is deprecated and will be removed in a future version. To read from a literal string, wrap it in a 'StringIO' object.\n",
      "  df = pd.read_html(str(table))[0]\n",
      "C:\\Users\\Hong-Bin\\AppData\\Local\\Temp\\ipykernel_9820\\3232788066.py:15: FutureWarning: Passing literal html to 'read_html' is deprecated and will be removed in a future version. To read from a literal string, wrap it in a 'StringIO' object.\n",
      "  df = pd.read_html(str(table))[0]\n",
      "C:\\Users\\Hong-Bin\\AppData\\Local\\Temp\\ipykernel_9820\\3232788066.py:15: FutureWarning: Passing literal html to 'read_html' is deprecated and will be removed in a future version. To read from a literal string, wrap it in a 'StringIO' object.\n",
      "  df = pd.read_html(str(table))[0]\n",
      "C:\\Users\\Hong-Bin\\AppData\\Local\\Temp\\ipykernel_9820\\3232788066.py:15: FutureWarning: Passing literal html to 'read_html' is deprecated and will be removed in a future version. To read from a literal string, wrap it in a 'StringIO' object.\n",
      "  df = pd.read_html(str(table))[0]\n"
     ]
    },
    {
     "name": "stdout",
     "output_type": "stream",
     "text": [
      "Extracting from https://www.hyundainews.com/en-us/releases/3950\n",
      "Extracting from https://www.hyundainews.com/en-us/releases/3950\n",
      "Extracting from https://www.hyundainews.com/en-us/releases/3921\n",
      "Extracting from https://www.hyundainews.com/en-us/releases/3921\n"
     ]
    },
    {
     "name": "stderr",
     "output_type": "stream",
     "text": [
      "C:\\Users\\Hong-Bin\\AppData\\Local\\Temp\\ipykernel_9820\\3232788066.py:15: FutureWarning: Passing literal html to 'read_html' is deprecated and will be removed in a future version. To read from a literal string, wrap it in a 'StringIO' object.\n",
      "  df = pd.read_html(str(table))[0]\n",
      "C:\\Users\\Hong-Bin\\AppData\\Local\\Temp\\ipykernel_9820\\3232788066.py:15: FutureWarning: Passing literal html to 'read_html' is deprecated and will be removed in a future version. To read from a literal string, wrap it in a 'StringIO' object.\n",
      "  df = pd.read_html(str(table))[0]\n",
      "C:\\Users\\Hong-Bin\\AppData\\Local\\Temp\\ipykernel_9820\\3232788066.py:15: FutureWarning: Passing literal html to 'read_html' is deprecated and will be removed in a future version. To read from a literal string, wrap it in a 'StringIO' object.\n",
      "  df = pd.read_html(str(table))[0]\n",
      "C:\\Users\\Hong-Bin\\AppData\\Local\\Temp\\ipykernel_9820\\3232788066.py:15: FutureWarning: Passing literal html to 'read_html' is deprecated and will be removed in a future version. To read from a literal string, wrap it in a 'StringIO' object.\n",
      "  df = pd.read_html(str(table))[0]\n",
      "C:\\Users\\Hong-Bin\\AppData\\Local\\Temp\\ipykernel_9820\\3232788066.py:15: FutureWarning: Passing literal html to 'read_html' is deprecated and will be removed in a future version. To read from a literal string, wrap it in a 'StringIO' object.\n",
      "  df = pd.read_html(str(table))[0]\n",
      "C:\\Users\\Hong-Bin\\AppData\\Local\\Temp\\ipykernel_9820\\3232788066.py:15: FutureWarning: Passing literal html to 'read_html' is deprecated and will be removed in a future version. To read from a literal string, wrap it in a 'StringIO' object.\n",
      "  df = pd.read_html(str(table))[0]\n"
     ]
    },
    {
     "name": "stdout",
     "output_type": "stream",
     "text": [
      "Extracting from https://www.hyundainews.com/en-us/releases/3896\n",
      "Extracting from https://www.hyundainews.com/en-us/releases/3896\n",
      "Extracting from https://www.hyundainews.com/en-us/releases/3875\n"
     ]
    },
    {
     "name": "stderr",
     "output_type": "stream",
     "text": [
      "C:\\Users\\Hong-Bin\\AppData\\Local\\Temp\\ipykernel_9820\\3232788066.py:15: FutureWarning: Passing literal html to 'read_html' is deprecated and will be removed in a future version. To read from a literal string, wrap it in a 'StringIO' object.\n",
      "  df = pd.read_html(str(table))[0]\n",
      "C:\\Users\\Hong-Bin\\AppData\\Local\\Temp\\ipykernel_9820\\3232788066.py:15: FutureWarning: Passing literal html to 'read_html' is deprecated and will be removed in a future version. To read from a literal string, wrap it in a 'StringIO' object.\n",
      "  df = pd.read_html(str(table))[0]\n",
      "C:\\Users\\Hong-Bin\\AppData\\Local\\Temp\\ipykernel_9820\\3232788066.py:15: FutureWarning: Passing literal html to 'read_html' is deprecated and will be removed in a future version. To read from a literal string, wrap it in a 'StringIO' object.\n",
      "  df = pd.read_html(str(table))[0]\n",
      "C:\\Users\\Hong-Bin\\AppData\\Local\\Temp\\ipykernel_9820\\3232788066.py:15: FutureWarning: Passing literal html to 'read_html' is deprecated and will be removed in a future version. To read from a literal string, wrap it in a 'StringIO' object.\n",
      "  df = pd.read_html(str(table))[0]\n",
      "C:\\Users\\Hong-Bin\\AppData\\Local\\Temp\\ipykernel_9820\\3232788066.py:15: FutureWarning: Passing literal html to 'read_html' is deprecated and will be removed in a future version. To read from a literal string, wrap it in a 'StringIO' object.\n",
      "  df = pd.read_html(str(table))[0]\n",
      "C:\\Users\\Hong-Bin\\AppData\\Local\\Temp\\ipykernel_9820\\3232788066.py:15: FutureWarning: Passing literal html to 'read_html' is deprecated and will be removed in a future version. To read from a literal string, wrap it in a 'StringIO' object.\n",
      "  df = pd.read_html(str(table))[0]\n",
      "C:\\Users\\Hong-Bin\\AppData\\Local\\Temp\\ipykernel_9820\\3232788066.py:15: FutureWarning: Passing literal html to 'read_html' is deprecated and will be removed in a future version. To read from a literal string, wrap it in a 'StringIO' object.\n",
      "  df = pd.read_html(str(table))[0]\n",
      "C:\\Users\\Hong-Bin\\AppData\\Local\\Temp\\ipykernel_9820\\3232788066.py:15: FutureWarning: Passing literal html to 'read_html' is deprecated and will be removed in a future version. To read from a literal string, wrap it in a 'StringIO' object.\n",
      "  df = pd.read_html(str(table))[0]\n"
     ]
    },
    {
     "name": "stdout",
     "output_type": "stream",
     "text": [
      "Extracting from https://www.hyundainews.com/en-us/releases/3875\n",
      "Extracting from https://www.hyundainews.com/en-us/releases/3850\n",
      "Extracting from https://www.hyundainews.com/en-us/releases/3850\n",
      "Extracting from https://www.hyundainews.com/en-us/releases/3826\n"
     ]
    },
    {
     "name": "stderr",
     "output_type": "stream",
     "text": [
      "C:\\Users\\Hong-Bin\\AppData\\Local\\Temp\\ipykernel_9820\\3232788066.py:15: FutureWarning: Passing literal html to 'read_html' is deprecated and will be removed in a future version. To read from a literal string, wrap it in a 'StringIO' object.\n",
      "  df = pd.read_html(str(table))[0]\n",
      "C:\\Users\\Hong-Bin\\AppData\\Local\\Temp\\ipykernel_9820\\3232788066.py:15: FutureWarning: Passing literal html to 'read_html' is deprecated and will be removed in a future version. To read from a literal string, wrap it in a 'StringIO' object.\n",
      "  df = pd.read_html(str(table))[0]\n",
      "C:\\Users\\Hong-Bin\\AppData\\Local\\Temp\\ipykernel_9820\\3232788066.py:15: FutureWarning: Passing literal html to 'read_html' is deprecated and will be removed in a future version. To read from a literal string, wrap it in a 'StringIO' object.\n",
      "  df = pd.read_html(str(table))[0]\n",
      "C:\\Users\\Hong-Bin\\AppData\\Local\\Temp\\ipykernel_9820\\3232788066.py:15: FutureWarning: Passing literal html to 'read_html' is deprecated and will be removed in a future version. To read from a literal string, wrap it in a 'StringIO' object.\n",
      "  df = pd.read_html(str(table))[0]\n",
      "C:\\Users\\Hong-Bin\\AppData\\Local\\Temp\\ipykernel_9820\\3232788066.py:15: FutureWarning: Passing literal html to 'read_html' is deprecated and will be removed in a future version. To read from a literal string, wrap it in a 'StringIO' object.\n",
      "  df = pd.read_html(str(table))[0]\n",
      "C:\\Users\\Hong-Bin\\AppData\\Local\\Temp\\ipykernel_9820\\3232788066.py:15: FutureWarning: Passing literal html to 'read_html' is deprecated and will be removed in a future version. To read from a literal string, wrap it in a 'StringIO' object.\n",
      "  df = pd.read_html(str(table))[0]\n"
     ]
    },
    {
     "name": "stdout",
     "output_type": "stream",
     "text": [
      "Extracting from https://www.hyundainews.com/en-us/releases/3826\n",
      "Extracting from https://www.hyundainews.com/en-us/releases/3800\n",
      "Extracting from https://www.hyundainews.com/en-us/releases/3800\n"
     ]
    },
    {
     "name": "stderr",
     "output_type": "stream",
     "text": [
      "C:\\Users\\Hong-Bin\\AppData\\Local\\Temp\\ipykernel_9820\\3232788066.py:15: FutureWarning: Passing literal html to 'read_html' is deprecated and will be removed in a future version. To read from a literal string, wrap it in a 'StringIO' object.\n",
      "  df = pd.read_html(str(table))[0]\n",
      "C:\\Users\\Hong-Bin\\AppData\\Local\\Temp\\ipykernel_9820\\3232788066.py:15: FutureWarning: Passing literal html to 'read_html' is deprecated and will be removed in a future version. To read from a literal string, wrap it in a 'StringIO' object.\n",
      "  df = pd.read_html(str(table))[0]\n",
      "C:\\Users\\Hong-Bin\\AppData\\Local\\Temp\\ipykernel_9820\\3232788066.py:15: FutureWarning: Passing literal html to 'read_html' is deprecated and will be removed in a future version. To read from a literal string, wrap it in a 'StringIO' object.\n",
      "  df = pd.read_html(str(table))[0]\n",
      "C:\\Users\\Hong-Bin\\AppData\\Local\\Temp\\ipykernel_9820\\3232788066.py:15: FutureWarning: Passing literal html to 'read_html' is deprecated and will be removed in a future version. To read from a literal string, wrap it in a 'StringIO' object.\n",
      "  df = pd.read_html(str(table))[0]\n",
      "C:\\Users\\Hong-Bin\\AppData\\Local\\Temp\\ipykernel_9820\\3232788066.py:15: FutureWarning: Passing literal html to 'read_html' is deprecated and will be removed in a future version. To read from a literal string, wrap it in a 'StringIO' object.\n",
      "  df = pd.read_html(str(table))[0]\n",
      "C:\\Users\\Hong-Bin\\AppData\\Local\\Temp\\ipykernel_9820\\3232788066.py:15: FutureWarning: Passing literal html to 'read_html' is deprecated and will be removed in a future version. To read from a literal string, wrap it in a 'StringIO' object.\n",
      "  df = pd.read_html(str(table))[0]\n"
     ]
    },
    {
     "name": "stdout",
     "output_type": "stream",
     "text": [
      "Extracting from https://www.hyundainews.com/en-us/releases/3778\n",
      "Extracting from https://www.hyundainews.com/en-us/releases/3778\n",
      "Extracting from https://www.hyundainews.com/en-us/releases/3754\n"
     ]
    },
    {
     "name": "stderr",
     "output_type": "stream",
     "text": [
      "C:\\Users\\Hong-Bin\\AppData\\Local\\Temp\\ipykernel_9820\\3232788066.py:15: FutureWarning: Passing literal html to 'read_html' is deprecated and will be removed in a future version. To read from a literal string, wrap it in a 'StringIO' object.\n",
      "  df = pd.read_html(str(table))[0]\n",
      "C:\\Users\\Hong-Bin\\AppData\\Local\\Temp\\ipykernel_9820\\3232788066.py:15: FutureWarning: Passing literal html to 'read_html' is deprecated and will be removed in a future version. To read from a literal string, wrap it in a 'StringIO' object.\n",
      "  df = pd.read_html(str(table))[0]\n",
      "C:\\Users\\Hong-Bin\\AppData\\Local\\Temp\\ipykernel_9820\\3232788066.py:15: FutureWarning: Passing literal html to 'read_html' is deprecated and will be removed in a future version. To read from a literal string, wrap it in a 'StringIO' object.\n",
      "  df = pd.read_html(str(table))[0]\n",
      "C:\\Users\\Hong-Bin\\AppData\\Local\\Temp\\ipykernel_9820\\3232788066.py:15: FutureWarning: Passing literal html to 'read_html' is deprecated and will be removed in a future version. To read from a literal string, wrap it in a 'StringIO' object.\n",
      "  df = pd.read_html(str(table))[0]\n",
      "C:\\Users\\Hong-Bin\\AppData\\Local\\Temp\\ipykernel_9820\\3232788066.py:15: FutureWarning: Passing literal html to 'read_html' is deprecated and will be removed in a future version. To read from a literal string, wrap it in a 'StringIO' object.\n",
      "  df = pd.read_html(str(table))[0]\n",
      "C:\\Users\\Hong-Bin\\AppData\\Local\\Temp\\ipykernel_9820\\3232788066.py:15: FutureWarning: Passing literal html to 'read_html' is deprecated and will be removed in a future version. To read from a literal string, wrap it in a 'StringIO' object.\n",
      "  df = pd.read_html(str(table))[0]\n",
      "C:\\Users\\Hong-Bin\\AppData\\Local\\Temp\\ipykernel_9820\\3232788066.py:15: FutureWarning: Passing literal html to 'read_html' is deprecated and will be removed in a future version. To read from a literal string, wrap it in a 'StringIO' object.\n",
      "  df = pd.read_html(str(table))[0]\n",
      "C:\\Users\\Hong-Bin\\AppData\\Local\\Temp\\ipykernel_9820\\3232788066.py:15: FutureWarning: Passing literal html to 'read_html' is deprecated and will be removed in a future version. To read from a literal string, wrap it in a 'StringIO' object.\n",
      "  df = pd.read_html(str(table))[0]\n"
     ]
    },
    {
     "name": "stdout",
     "output_type": "stream",
     "text": [
      "Extracting from https://www.hyundainews.com/en-us/releases/3754\n",
      "Extracting from https://www.hyundainews.com/en-us/releases/3732\n",
      "Extracting from https://www.hyundainews.com/en-us/releases/3732\n",
      "Extracting from https://www.hyundainews.com/en-us/releases/3705\n"
     ]
    },
    {
     "name": "stderr",
     "output_type": "stream",
     "text": [
      "C:\\Users\\Hong-Bin\\AppData\\Local\\Temp\\ipykernel_9820\\3232788066.py:15: FutureWarning: Passing literal html to 'read_html' is deprecated and will be removed in a future version. To read from a literal string, wrap it in a 'StringIO' object.\n",
      "  df = pd.read_html(str(table))[0]\n",
      "C:\\Users\\Hong-Bin\\AppData\\Local\\Temp\\ipykernel_9820\\3232788066.py:15: FutureWarning: Passing literal html to 'read_html' is deprecated and will be removed in a future version. To read from a literal string, wrap it in a 'StringIO' object.\n",
      "  df = pd.read_html(str(table))[0]\n",
      "C:\\Users\\Hong-Bin\\AppData\\Local\\Temp\\ipykernel_9820\\3232788066.py:15: FutureWarning: Passing literal html to 'read_html' is deprecated and will be removed in a future version. To read from a literal string, wrap it in a 'StringIO' object.\n",
      "  df = pd.read_html(str(table))[0]\n",
      "C:\\Users\\Hong-Bin\\AppData\\Local\\Temp\\ipykernel_9820\\3232788066.py:15: FutureWarning: Passing literal html to 'read_html' is deprecated and will be removed in a future version. To read from a literal string, wrap it in a 'StringIO' object.\n",
      "  df = pd.read_html(str(table))[0]\n",
      "C:\\Users\\Hong-Bin\\AppData\\Local\\Temp\\ipykernel_9820\\3232788066.py:15: FutureWarning: Passing literal html to 'read_html' is deprecated and will be removed in a future version. To read from a literal string, wrap it in a 'StringIO' object.\n",
      "  df = pd.read_html(str(table))[0]\n",
      "C:\\Users\\Hong-Bin\\AppData\\Local\\Temp\\ipykernel_9820\\3232788066.py:15: FutureWarning: Passing literal html to 'read_html' is deprecated and will be removed in a future version. To read from a literal string, wrap it in a 'StringIO' object.\n",
      "  df = pd.read_html(str(table))[0]\n"
     ]
    },
    {
     "name": "stdout",
     "output_type": "stream",
     "text": [
      "Extracting from https://www.hyundainews.com/en-us/releases/3705\n",
      "Extracting from https://www.hyundainews.com/en-us/releases/3680\n",
      "Extracting from https://www.hyundainews.com/en-us/releases/3680\n"
     ]
    },
    {
     "name": "stderr",
     "output_type": "stream",
     "text": [
      "C:\\Users\\Hong-Bin\\AppData\\Local\\Temp\\ipykernel_9820\\3232788066.py:15: FutureWarning: Passing literal html to 'read_html' is deprecated and will be removed in a future version. To read from a literal string, wrap it in a 'StringIO' object.\n",
      "  df = pd.read_html(str(table))[0]\n",
      "C:\\Users\\Hong-Bin\\AppData\\Local\\Temp\\ipykernel_9820\\3232788066.py:15: FutureWarning: Passing literal html to 'read_html' is deprecated and will be removed in a future version. To read from a literal string, wrap it in a 'StringIO' object.\n",
      "  df = pd.read_html(str(table))[0]\n",
      "C:\\Users\\Hong-Bin\\AppData\\Local\\Temp\\ipykernel_9820\\3232788066.py:15: FutureWarning: Passing literal html to 'read_html' is deprecated and will be removed in a future version. To read from a literal string, wrap it in a 'StringIO' object.\n",
      "  df = pd.read_html(str(table))[0]\n",
      "C:\\Users\\Hong-Bin\\AppData\\Local\\Temp\\ipykernel_9820\\3232788066.py:15: FutureWarning: Passing literal html to 'read_html' is deprecated and will be removed in a future version. To read from a literal string, wrap it in a 'StringIO' object.\n",
      "  df = pd.read_html(str(table))[0]\n",
      "C:\\Users\\Hong-Bin\\AppData\\Local\\Temp\\ipykernel_9820\\3232788066.py:15: FutureWarning: Passing literal html to 'read_html' is deprecated and will be removed in a future version. To read from a literal string, wrap it in a 'StringIO' object.\n",
      "  df = pd.read_html(str(table))[0]\n",
      "C:\\Users\\Hong-Bin\\AppData\\Local\\Temp\\ipykernel_9820\\3232788066.py:15: FutureWarning: Passing literal html to 'read_html' is deprecated and will be removed in a future version. To read from a literal string, wrap it in a 'StringIO' object.\n",
      "  df = pd.read_html(str(table))[0]\n",
      "C:\\Users\\Hong-Bin\\AppData\\Local\\Temp\\ipykernel_9820\\3232788066.py:15: FutureWarning: Passing literal html to 'read_html' is deprecated and will be removed in a future version. To read from a literal string, wrap it in a 'StringIO' object.\n",
      "  df = pd.read_html(str(table))[0]\n",
      "C:\\Users\\Hong-Bin\\AppData\\Local\\Temp\\ipykernel_9820\\3232788066.py:15: FutureWarning: Passing literal html to 'read_html' is deprecated and will be removed in a future version. To read from a literal string, wrap it in a 'StringIO' object.\n",
      "  df = pd.read_html(str(table))[0]\n"
     ]
    },
    {
     "name": "stdout",
     "output_type": "stream",
     "text": [
      "Extracting from https://www.hyundainews.com/en-us/releases/3662\n",
      "Extracting from https://www.hyundainews.com/en-us/releases/3662\n",
      "Extracting from https://www.hyundainews.com/en-us/releases/3643\n",
      "Extracting from https://www.hyundainews.com/en-us/releases/3643\n"
     ]
    },
    {
     "name": "stderr",
     "output_type": "stream",
     "text": [
      "C:\\Users\\Hong-Bin\\AppData\\Local\\Temp\\ipykernel_9820\\3232788066.py:15: FutureWarning: Passing literal html to 'read_html' is deprecated and will be removed in a future version. To read from a literal string, wrap it in a 'StringIO' object.\n",
      "  df = pd.read_html(str(table))[0]\n",
      "C:\\Users\\Hong-Bin\\AppData\\Local\\Temp\\ipykernel_9820\\3232788066.py:15: FutureWarning: Passing literal html to 'read_html' is deprecated and will be removed in a future version. To read from a literal string, wrap it in a 'StringIO' object.\n",
      "  df = pd.read_html(str(table))[0]\n",
      "C:\\Users\\Hong-Bin\\AppData\\Local\\Temp\\ipykernel_9820\\3232788066.py:15: FutureWarning: Passing literal html to 'read_html' is deprecated and will be removed in a future version. To read from a literal string, wrap it in a 'StringIO' object.\n",
      "  df = pd.read_html(str(table))[0]\n",
      "C:\\Users\\Hong-Bin\\AppData\\Local\\Temp\\ipykernel_9820\\3232788066.py:15: FutureWarning: Passing literal html to 'read_html' is deprecated and will be removed in a future version. To read from a literal string, wrap it in a 'StringIO' object.\n",
      "  df = pd.read_html(str(table))[0]\n",
      "C:\\Users\\Hong-Bin\\AppData\\Local\\Temp\\ipykernel_9820\\3232788066.py:15: FutureWarning: Passing literal html to 'read_html' is deprecated and will be removed in a future version. To read from a literal string, wrap it in a 'StringIO' object.\n",
      "  df = pd.read_html(str(table))[0]\n",
      "C:\\Users\\Hong-Bin\\AppData\\Local\\Temp\\ipykernel_9820\\3232788066.py:15: FutureWarning: Passing literal html to 'read_html' is deprecated and will be removed in a future version. To read from a literal string, wrap it in a 'StringIO' object.\n",
      "  df = pd.read_html(str(table))[0]\n"
     ]
    },
    {
     "name": "stdout",
     "output_type": "stream",
     "text": [
      "Extracting from https://www.hyundainews.com/en-us/releases/3624\n",
      "Extracting from https://www.hyundainews.com/en-us/releases/3624\n",
      "Extracting from https://www.hyundainews.com/en-us/releases/3593\n"
     ]
    },
    {
     "name": "stderr",
     "output_type": "stream",
     "text": [
      "C:\\Users\\Hong-Bin\\AppData\\Local\\Temp\\ipykernel_9820\\3232788066.py:15: FutureWarning: Passing literal html to 'read_html' is deprecated and will be removed in a future version. To read from a literal string, wrap it in a 'StringIO' object.\n",
      "  df = pd.read_html(str(table))[0]\n",
      "C:\\Users\\Hong-Bin\\AppData\\Local\\Temp\\ipykernel_9820\\3232788066.py:15: FutureWarning: Passing literal html to 'read_html' is deprecated and will be removed in a future version. To read from a literal string, wrap it in a 'StringIO' object.\n",
      "  df = pd.read_html(str(table))[0]\n",
      "C:\\Users\\Hong-Bin\\AppData\\Local\\Temp\\ipykernel_9820\\3232788066.py:15: FutureWarning: Passing literal html to 'read_html' is deprecated and will be removed in a future version. To read from a literal string, wrap it in a 'StringIO' object.\n",
      "  df = pd.read_html(str(table))[0]\n",
      "C:\\Users\\Hong-Bin\\AppData\\Local\\Temp\\ipykernel_9820\\3232788066.py:15: FutureWarning: Passing literal html to 'read_html' is deprecated and will be removed in a future version. To read from a literal string, wrap it in a 'StringIO' object.\n",
      "  df = pd.read_html(str(table))[0]\n",
      "C:\\Users\\Hong-Bin\\AppData\\Local\\Temp\\ipykernel_9820\\3232788066.py:15: FutureWarning: Passing literal html to 'read_html' is deprecated and will be removed in a future version. To read from a literal string, wrap it in a 'StringIO' object.\n",
      "  df = pd.read_html(str(table))[0]\n",
      "C:\\Users\\Hong-Bin\\AppData\\Local\\Temp\\ipykernel_9820\\3232788066.py:15: FutureWarning: Passing literal html to 'read_html' is deprecated and will be removed in a future version. To read from a literal string, wrap it in a 'StringIO' object.\n",
      "  df = pd.read_html(str(table))[0]\n"
     ]
    },
    {
     "name": "stdout",
     "output_type": "stream",
     "text": [
      "Extracting from https://www.hyundainews.com/en-us/releases/3593\n",
      "Extracting from https://www.hyundainews.com/en-us/releases/3575\n",
      "Extracting from https://www.hyundainews.com/en-us/releases/3575\n"
     ]
    },
    {
     "name": "stderr",
     "output_type": "stream",
     "text": [
      "C:\\Users\\Hong-Bin\\AppData\\Local\\Temp\\ipykernel_9820\\3232788066.py:15: FutureWarning: Passing literal html to 'read_html' is deprecated and will be removed in a future version. To read from a literal string, wrap it in a 'StringIO' object.\n",
      "  df = pd.read_html(str(table))[0]\n",
      "C:\\Users\\Hong-Bin\\AppData\\Local\\Temp\\ipykernel_9820\\3232788066.py:15: FutureWarning: Passing literal html to 'read_html' is deprecated and will be removed in a future version. To read from a literal string, wrap it in a 'StringIO' object.\n",
      "  df = pd.read_html(str(table))[0]\n",
      "C:\\Users\\Hong-Bin\\AppData\\Local\\Temp\\ipykernel_9820\\3232788066.py:15: FutureWarning: Passing literal html to 'read_html' is deprecated and will be removed in a future version. To read from a literal string, wrap it in a 'StringIO' object.\n",
      "  df = pd.read_html(str(table))[0]\n",
      "C:\\Users\\Hong-Bin\\AppData\\Local\\Temp\\ipykernel_9820\\3232788066.py:15: FutureWarning: Passing literal html to 'read_html' is deprecated and will be removed in a future version. To read from a literal string, wrap it in a 'StringIO' object.\n",
      "  df = pd.read_html(str(table))[0]\n",
      "C:\\Users\\Hong-Bin\\AppData\\Local\\Temp\\ipykernel_9820\\3232788066.py:15: FutureWarning: Passing literal html to 'read_html' is deprecated and will be removed in a future version. To read from a literal string, wrap it in a 'StringIO' object.\n",
      "  df = pd.read_html(str(table))[0]\n",
      "C:\\Users\\Hong-Bin\\AppData\\Local\\Temp\\ipykernel_9820\\3232788066.py:15: FutureWarning: Passing literal html to 'read_html' is deprecated and will be removed in a future version. To read from a literal string, wrap it in a 'StringIO' object.\n",
      "  df = pd.read_html(str(table))[0]\n",
      "C:\\Users\\Hong-Bin\\AppData\\Local\\Temp\\ipykernel_9820\\3232788066.py:15: FutureWarning: Passing literal html to 'read_html' is deprecated and will be removed in a future version. To read from a literal string, wrap it in a 'StringIO' object.\n",
      "  df = pd.read_html(str(table))[0]\n",
      "C:\\Users\\Hong-Bin\\AppData\\Local\\Temp\\ipykernel_9820\\3232788066.py:15: FutureWarning: Passing literal html to 'read_html' is deprecated and will be removed in a future version. To read from a literal string, wrap it in a 'StringIO' object.\n",
      "  df = pd.read_html(str(table))[0]\n"
     ]
    },
    {
     "name": "stdout",
     "output_type": "stream",
     "text": [
      "Extracting from https://www.hyundainews.com/en-us/releases/3560\n",
      "Extracting from https://www.hyundainews.com/en-us/releases/3560\n",
      "Extracting from https://www.hyundainews.com/en-us/releases/3530\n",
      "Extracting from https://www.hyundainews.com/en-us/releases/3530\n"
     ]
    },
    {
     "name": "stderr",
     "output_type": "stream",
     "text": [
      "C:\\Users\\Hong-Bin\\AppData\\Local\\Temp\\ipykernel_9820\\3232788066.py:15: FutureWarning: Passing literal html to 'read_html' is deprecated and will be removed in a future version. To read from a literal string, wrap it in a 'StringIO' object.\n",
      "  df = pd.read_html(str(table))[0]\n",
      "C:\\Users\\Hong-Bin\\AppData\\Local\\Temp\\ipykernel_9820\\3232788066.py:15: FutureWarning: Passing literal html to 'read_html' is deprecated and will be removed in a future version. To read from a literal string, wrap it in a 'StringIO' object.\n",
      "  df = pd.read_html(str(table))[0]\n",
      "C:\\Users\\Hong-Bin\\AppData\\Local\\Temp\\ipykernel_9820\\3232788066.py:15: FutureWarning: Passing literal html to 'read_html' is deprecated and will be removed in a future version. To read from a literal string, wrap it in a 'StringIO' object.\n",
      "  df = pd.read_html(str(table))[0]\n",
      "C:\\Users\\Hong-Bin\\AppData\\Local\\Temp\\ipykernel_9820\\3232788066.py:15: FutureWarning: Passing literal html to 'read_html' is deprecated and will be removed in a future version. To read from a literal string, wrap it in a 'StringIO' object.\n",
      "  df = pd.read_html(str(table))[0]\n",
      "C:\\Users\\Hong-Bin\\AppData\\Local\\Temp\\ipykernel_9820\\3232788066.py:15: FutureWarning: Passing literal html to 'read_html' is deprecated and will be removed in a future version. To read from a literal string, wrap it in a 'StringIO' object.\n",
      "  df = pd.read_html(str(table))[0]\n",
      "C:\\Users\\Hong-Bin\\AppData\\Local\\Temp\\ipykernel_9820\\3232788066.py:15: FutureWarning: Passing literal html to 'read_html' is deprecated and will be removed in a future version. To read from a literal string, wrap it in a 'StringIO' object.\n",
      "  df = pd.read_html(str(table))[0]\n"
     ]
    },
    {
     "name": "stdout",
     "output_type": "stream",
     "text": [
      "Extracting from https://www.hyundainews.com/en-us/releases/3516\n",
      "Extracting from https://www.hyundainews.com/en-us/releases/3516\n",
      "Extracting from https://www.hyundainews.com/en-us/releases/3497\n",
      "Extracting from https://www.hyundainews.com/en-us/releases/3497\n",
      "Extracting from https://www.hyundainews.com/en-us/releases/3475\n",
      "Extracting from https://www.hyundainews.com/en-us/releases/3475\n",
      "Extraction complete.\n"
     ]
    },
    {
     "name": "stderr",
     "output_type": "stream",
     "text": [
      "C:\\Users\\Hong-Bin\\AppData\\Local\\Temp\\ipykernel_9820\\3232788066.py:15: FutureWarning: Passing literal html to 'read_html' is deprecated and will be removed in a future version. To read from a literal string, wrap it in a 'StringIO' object.\n",
      "  df = pd.read_html(str(table))[0]\n",
      "C:\\Users\\Hong-Bin\\AppData\\Local\\Temp\\ipykernel_9820\\3232788066.py:15: FutureWarning: Passing literal html to 'read_html' is deprecated and will be removed in a future version. To read from a literal string, wrap it in a 'StringIO' object.\n",
      "  df = pd.read_html(str(table))[0]\n",
      "C:\\Users\\Hong-Bin\\AppData\\Local\\Temp\\ipykernel_9820\\3232788066.py:15: FutureWarning: Passing literal html to 'read_html' is deprecated and will be removed in a future version. To read from a literal string, wrap it in a 'StringIO' object.\n",
      "  df = pd.read_html(str(table))[0]\n",
      "C:\\Users\\Hong-Bin\\AppData\\Local\\Temp\\ipykernel_9820\\3232788066.py:15: FutureWarning: Passing literal html to 'read_html' is deprecated and will be removed in a future version. To read from a literal string, wrap it in a 'StringIO' object.\n",
      "  df = pd.read_html(str(table))[0]\n",
      "C:\\Users\\Hong-Bin\\AppData\\Local\\Temp\\ipykernel_9820\\3232788066.py:15: FutureWarning: Passing literal html to 'read_html' is deprecated and will be removed in a future version. To read from a literal string, wrap it in a 'StringIO' object.\n",
      "  df = pd.read_html(str(table))[0]\n",
      "C:\\Users\\Hong-Bin\\AppData\\Local\\Temp\\ipykernel_9820\\3232788066.py:15: FutureWarning: Passing literal html to 'read_html' is deprecated and will be removed in a future version. To read from a literal string, wrap it in a 'StringIO' object.\n",
      "  df = pd.read_html(str(table))[0]\n",
      "C:\\Users\\Hong-Bin\\AppData\\Local\\Temp\\ipykernel_9820\\3232788066.py:15: FutureWarning: Passing literal html to 'read_html' is deprecated and will be removed in a future version. To read from a literal string, wrap it in a 'StringIO' object.\n",
      "  df = pd.read_html(str(table))[0]\n",
      "C:\\Users\\Hong-Bin\\AppData\\Local\\Temp\\ipykernel_9820\\3232788066.py:15: FutureWarning: Passing literal html to 'read_html' is deprecated and will be removed in a future version. To read from a literal string, wrap it in a 'StringIO' object.\n",
      "  df = pd.read_html(str(table))[0]\n"
     ]
    }
   ],
   "source": [
    "# Step 4: Loop through article links and extract tables\n",
    "\n",
    "total_sales_df = pd.DataFrame(columns=['timestamp', 'total sales'])\n",
    "total_vehicle_sales_df = pd.DataFrame(columns=['timestamp'])\n",
    "\n",
    "\n",
    "for article_url in article_links:\n",
    "    total_sales_df, total_vehicle_sales_df = extract_tables_from_article(article_url, total_sales_df, total_vehicle_sales_df)\n",
    "\n",
    "# drop duplicates\n",
    "total_sales_df = total_sales_df.drop_duplicates()\n",
    "total_vehicle_sales_df = total_vehicle_sales_df.drop_duplicates()\n",
    "\n",
    "# Save the table as a CSV file\n",
    "total_sales_df.to_csv(f\"data/total_sales_df.csv\", index=False)    \n",
    "total_vehicle_sales_df.to_csv(f\"data/total_vehicle_sales_df.csv\", index=False)    \n",
    "print(\"Extraction complete.\")"
   ]
  },
  {
   "cell_type": "code",
   "execution_count": null,
   "metadata": {},
   "outputs": [],
   "source": [
    "\n"
   ]
  }
 ],
 "metadata": {
  "kernelspec": {
   "display_name": "venv",
   "language": "python",
   "name": "python3"
  },
  "language_info": {
   "codemirror_mode": {
    "name": "ipython",
    "version": 3
   },
   "file_extension": ".py",
   "mimetype": "text/x-python",
   "name": "python",
   "nbconvert_exporter": "python",
   "pygments_lexer": "ipython3",
   "version": "3.12.4"
  }
 },
 "nbformat": 4,
 "nbformat_minor": 2
}
